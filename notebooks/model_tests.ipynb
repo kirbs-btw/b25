{
 "cells": [
  {
   "cell_type": "code",
   "execution_count": 1,
   "metadata": {},
   "outputs": [],
   "source": [
    "import gensim\n",
    "from gensim.models import Word2Vec\n",
    "from nltk.tokenize import word_tokenize\n",
    "import nltk\n",
    "import pandas as pd"
   ]
  },
  {
   "cell_type": "code",
   "execution_count": 2,
   "metadata": {},
   "outputs": [],
   "source": [
    "# model = Word2Vec.load(\"../models/b25-sn-v256/b25-sn-v256.model\")\n",
    "model = Word2Vec.load(\"../models/b25-sn-v256/b25-sn-v256-d.model\")"
   ]
  },
  {
   "cell_type": "code",
   "execution_count": 3,
   "metadata": {},
   "outputs": [],
   "source": [
    "import pickle\n",
    "\n",
    "with open('../data/tokenized_data/playlist_names/test_set.pkl', 'rb') as f:\n",
    "    tokenized_playlists = pickle.load(f)"
   ]
  },
  {
   "cell_type": "code",
   "execution_count": 4,
   "metadata": {},
   "outputs": [
    {
     "name": "stdout",
     "output_type": "stream",
     "text": [
      "Accuracy: 0.21337249481686246\n"
     ]
    }
   ],
   "source": [
    "tested = 0\n",
    "correct = 0\n",
    "\n",
    "test_set = tokenized_playlists[0:100]\n",
    "\n",
    "for playlist in test_set:\n",
    "    for song in playlist:\n",
    "        try:\n",
    "            tested += 1\n",
    "            similar_words = model.wv.most_similar(song, topn=3)\n",
    "            is_correct = False\n",
    "            for word in similar_words:\n",
    "                if word[0] in playlist:\n",
    "                    is_correct = True\n",
    "            if is_correct: correct += 1\n",
    "        except:\n",
    "            # skipping songs that are not in the model\n",
    "            continue\n",
    "\n",
    "print(f\"Accuracy: {correct/tested}\")\n",
    "\n"
   ]
  },
  {
   "cell_type": "code",
   "execution_count": null,
   "metadata": {},
   "outputs": [],
   "source": [
    "# first model b25-sn-v256: just the base data with no tweaks of the data and the most basic var of the model\n",
    "# 0.07389817629179331 accuracy over 100 playlists is very low as far as i feel how good the suggested songs are from the model \n",
    "# don't know if the number will rise with more playlist but the code needs more optimizing \n",
    "\n",
    "# second model b25-sn-v256-b: training it with a bigger dataset - base is the normal dataset but extended with shuffeld playlists on top \n",
    "# 0.2773556231003039 accuracy over 100 playlist - thats a solid score if you think about every 1/4 songs that is suggested is correct\n",
    "# decent result for a second draft\n",
    "\n",
    "# third model b25-sn-v256-c: based on model the data of b25-sn-v256-b but the context window is now 20 not 5 \n",
    "# 0.48822188449848025 accuracy over 100 playlists thats a good score for songs suggestion\n",
    "\n",
    "# b25-sn-v256-d: reduced training data to 80% of the set to have a better testing without the chance of overfitting\n",
    "# 0.21337249481686246 accuracy over 100 playlists - was to be anticipated because of reducing the training set and the split of train and test data\n",
    "# still need to test all models against a way bigger chunck of the test set \n",
    "# before splitting test and train the data should be shuffeld to remove bias of the data to a specific section \n",
    "\n",
    "# comments about the testing \n",
    "# still need to test them against way more playlists not only 100\n",
    "# also need to cut between training and test data to prevent overfitting the model to the values i just want to here\n",
    "# it would be interesting what accuracy is possible to reach with this approach\n",
    "# "
   ]
  },
  {
   "cell_type": "code",
   "execution_count": 11,
   "metadata": {},
   "outputs": [
    {
     "name": "stdout",
     "output_type": "stream",
     "text": [
      "[('Run from Safety', 0.8095299601554871), (\"O'Banion's Wake\", 0.8088309168815613), ('Personal Halloway', 0.808303952217102), ('Sometimes I Feel', 0.804659903049469), ('Remember (Walking in the Sand)', 0.8016467094421387)]\n"
     ]
    }
   ],
   "source": [
    "word = \"Paint it Black\"\n",
    "\n",
    "# word_embedding = model.wv[\"Paint it Black\"]\n",
    "\n",
    "similar_words = model.wv.most_similar(word, topn=5)\n",
    "print(similar_words)"
   ]
  },
  {
   "cell_type": "code",
   "execution_count": 7,
   "metadata": {},
   "outputs": [
    {
     "name": "stdout",
     "output_type": "stream",
     "text": [
      "False\n"
     ]
    }
   ],
   "source": [
    "print(\"Von Party zu Party\" in model.wv)\n",
    "# model.wv.key_to_index"
   ]
  }
 ],
 "metadata": {
  "kernelspec": {
   "display_name": "venv",
   "language": "python",
   "name": "python3"
  },
  "language_info": {
   "codemirror_mode": {
    "name": "ipython",
    "version": 3
   },
   "file_extension": ".py",
   "mimetype": "text/x-python",
   "name": "python",
   "nbconvert_exporter": "python",
   "pygments_lexer": "ipython3",
   "version": "3.10.11"
  }
 },
 "nbformat": 4,
 "nbformat_minor": 2
}
