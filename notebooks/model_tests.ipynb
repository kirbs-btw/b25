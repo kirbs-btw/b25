{
 "cells": [
  {
   "cell_type": "code",
   "execution_count": 1,
   "metadata": {},
   "outputs": [],
   "source": [
    "import gensim\n",
    "from gensim.models import Word2Vec\n",
    "from nltk.tokenize import word_tokenize\n",
    "import nltk\n",
    "import pandas as pd\n",
    "import pickle"
   ]
  },
  {
   "cell_type": "code",
   "execution_count": 2,
   "metadata": {},
   "outputs": [],
   "source": [
    "# model = Word2Vec.load(\"../models/b25-sn-v256/b25-sn-v256.model\")\n",
    "model = Word2Vec.load(\"../models/b25-sn-v512/b25-sn-v512-b.model\")  # <--\n",
    "# model = Word2Vec.load(\"../models/b25-sn-v512/b25-sn-v512-a.model\")\n",
    "# model = Word2Vec.load(\"../models/b25-sn-v50/b25-sn-v50.model\")"
   ]
  },
  {
   "cell_type": "code",
   "execution_count": 2,
   "metadata": {},
   "outputs": [],
   "source": [
    "from algo_testing import son2vecgl_a\n",
    "\n",
    "with open(\n",
    "    \"../models/b25-sn-v512/b25-sn-v512-g.pkl\", \"rb\"\n",
    ") as file:  # \"rb\" means read in binary mode\n",
    "    model = pickle.load(file)"
   ]
  },
  {
   "cell_type": "code",
   "execution_count": 3,
   "metadata": {},
   "outputs": [],
   "source": [
    "with open(\"../data/tokenized_data/playlist_names/dataset_test.pkl\", \"rb\") as f:\n",
    "    tokenized_playlists = pickle.load(f)"
   ]
  },
  {
   "cell_type": "code",
   "execution_count": null,
   "metadata": {},
   "outputs": [],
   "source": [
    "print(model.nearest_k1(tokenized_playlists[0][0]))"
   ]
  },
  {
   "cell_type": "markdown",
   "metadata": {},
   "source": [
    "## Precision@1"
   ]
  },
  {
   "cell_type": "code",
   "execution_count": null,
   "metadata": {},
   "outputs": [],
   "source": [
    "tested = 0\n",
    "correct = 0\n",
    "\n",
    "test_set = tokenized_playlists[:100]\n",
    "a = 0\n",
    "for playlist in test_set:\n",
    "    a += len(playlist)\n",
    "print(f\"Total songs: {a}\")\n",
    "\n",
    "vgl_a = 0\n",
    "vgl_b = 0\n",
    "\n",
    "for playlist in test_set:\n",
    "    for song in playlist:\n",
    "        vgl_a += 1\n",
    "\n",
    "        # try:\n",
    "\n",
    "        similar_words = model.wv.most_similar(song, topn=1)\n",
    "        # similar_words = model.nearest(song, k=1)\n",
    "        # similar_words = model.nearest(song, k=1)\n",
    "        if similar_words == []:\n",
    "            continue\n",
    "\n",
    "        tested += 1\n",
    "\n",
    "        if any(word[0] in playlist for word in similar_words):\n",
    "            correct += 1\n",
    "        # except:\n",
    "        #     vgl_b += 1\n",
    "        #     continue\n",
    "\n",
    "\n",
    "print(f\"correct: {correct}\")\n",
    "print(f\"Accuracy: {correct/tested}\")\n",
    "print(f\"Tested: {vgl_a}\")\n",
    "print(f\"Wrong: {vgl_b}\")\n",
    "\n",
    "# alpha = 0.8 --> 0.014339622641509434 accuracy\n",
    "# alpha = 0.5 --> 0.014339622641509434 accuracy\n",
    "# alpha = 0.015 --> 0.013584905660377358 accuracy\n",
    "# alpha = 0.015 epoch 15 --> 0.055304740406320545 accuracy\n",
    "# alpha = 0.015 epoch 30 --> 0.056 --> 15 epoch where it konverges\n",
    "# need to change something about the algorithm...\n",
    "# alpha = 0.015 epoch 30 + fuzzy testing (k=5) --> Accuracy: 0.10533333333333333\n",
    "# the algorithm somewhat shows it's going in the right direction but needs an other approche\n",
    "# alpha = 0.015 epoch 15 + trained with the whole dataset --> Accuracy (over 50 playlists): 0.21962264150943397\n",
    "# alpah = 0.025 epoch 15 + whole set --> Accuracy: 0.23622641509433961\n",
    "# alpah = 0.025 epoch 15 + whole set + included L2 Norm as score --> Accuracy: 0.052830188679245285\n",
    "\n",
    "\n",
    "# gloVe type algo:\n",
    "# alpha = 0.025 epoch 15 *1000 playlists vector_size = 512 --> Accuracy: 0.009505703422053232"
   ]
  },
  {
   "cell_type": "markdown",
   "metadata": {},
   "source": [
    "## Precision@K"
   ]
  },
  {
   "cell_type": "code",
   "execution_count": 8,
   "metadata": {},
   "outputs": [
    {
     "name": "stdout",
     "output_type": "stream",
     "text": [
      "Total songs: 10675\n",
      "correct: 11226\n",
      "Accuracy: 0.35053864168618265\n",
      "Tested: 10675\n",
      "Wrong: 0\n"
     ]
    }
   ],
   "source": [
    "tested = 0\n",
    "correct = 0\n",
    "K = 3\n",
    "\n",
    "test_set = tokenized_playlists[:250]\n",
    "a = 0\n",
    "for playlist in test_set:\n",
    "    a += len(playlist)\n",
    "print(f\"Total songs: {a}\")\n",
    "\n",
    "vgl_a = 0\n",
    "vgl_b = 0\n",
    "\n",
    "for playlist in test_set:\n",
    "    for song in playlist:\n",
    "        vgl_a += 1\n",
    "\n",
    "        try:\n",
    "\n",
    "            similar_words = model.wv.most_similar(song, topn=K)\n",
    "            # similar_words = model.nearest(song, k=K)\n",
    "            if similar_words == []:\n",
    "                continue\n",
    "\n",
    "            tested += 1\n",
    "\n",
    "            for similar_word in similar_words:\n",
    "                if similar_word[0] in playlist:\n",
    "                    correct += 1\n",
    "        except:\n",
    "            vgl_b += 1\n",
    "            continue\n",
    "\n",
    "\n",
    "print(f\"correct: {correct}\")\n",
    "print(f\"Accuracy: {correct/(tested*K)}\")\n",
    "print(f\"Tested: {vgl_a}\")\n",
    "print(f\"Wrong: {vgl_b}\")"
   ]
  },
  {
   "cell_type": "markdown",
   "metadata": {},
   "source": [
    "## Recall@K"
   ]
  },
  {
   "cell_type": "code",
   "execution_count": null,
   "metadata": {},
   "outputs": [],
   "source": [
    "# recall @ k would be the same as precision at k with a threshold for the k results..."
   ]
  },
  {
   "cell_type": "markdown",
   "metadata": {},
   "source": [
    "# Second Test with the Combined Artist and Trackname \n",
    "to exclude songs named the same with different vibe\n",
    "\n",
    "#### b25-sn-v50 param: vector_size=50, window=5, min_count=1, sg=0\n",
    "Accuracy: 0.36720959719106605\n",
    "\n",
    "#### b25-sn-v256-a param: vector_size=256, window=5, min_count=1, sg=0\n",
    "Accuracy: 0.36691699990246757\n",
    "\n",
    "#### b25-sn-v256-b param: vector_size=256, window=10, min_count=1, sg=0\n",
    "Accuracy: 0.43333658441431777\n",
    "\n",
    "#### b25-sn-v256-c param: vector_size=256, window=20, min_count=1, sg=0\n",
    "Accuracy: 0.4426996976494684\n",
    "\n",
    "#### b25-sn-v256-d param: vector_size=256, window=20, min_count=1, sg=1, ns_exponent=0.0\n",
    "Accuracy: 0.6513215644201698\n",
    "\n",
    "#### b25-sn-v512-a param: vector_size=512, window=100, min_count=1, sg=0\n",
    "Accuracy: 0.5702721154783965\n",
    "\n",
    "#### b25-sn-v512-b param: vector_size=512, window=100, min_count=1, sg=1, ns_exponent=0.0\n",
    "Accuracy: 0.773919828342924\n",
    "\n",
    "#### b25-sn-v512-d - CBOS param: vector_size=512, epochs=5, learning_rate=0.015*\n",
    "\n",
    "Accuracy: 0.08009367681498829\n",
    "\n",
    "#### b25-sn-v512-e param: vector_size: 512, window=inf, min_count=1, epochs=15, learning_rate=0.025, algo=CBOS-d\n",
    "Accuracy: 0.052830188679245285\n",
    "* Used distance to add a score to the gradient\n",
    "\n",
    "#### b25-snv128-f param: vector_size: 128, window=inf, min_count=1, epochs=15, learning_rate=0.025, algo=GLSE\n",
    "Accuracy: 0.0038022813688212928\n",
    "\n",
    "\n",
    "\n",
    "\\* trained with only 3.5% of the training data "
   ]
  },
  {
   "cell_type": "markdown",
   "metadata": {},
   "source": [
    "## Unit tested Results"
   ]
  },
  {
   "cell_type": "markdown",
   "metadata": {},
   "source": [
    "#### b25-sn-v50 param: vector_size=50, window=5, min_count=1, sg=0\n",
    "Accuracy: 0.260704184141227\n",
    "\n",
    "#### b25-sn-v256-a param: vector_size=256, window=5, min_count=1, sg=0\n",
    "Accuracy: 0.28089339705452065\n",
    "\n",
    "#### b25-sn-v256-b param: vector_size=256, window=10, min_count=1, sg=0\n",
    "Accuracy: 0.3198088364381157\n",
    "\n",
    "#### b25-sn-v256-c param: vector_size=256, window=20, min_count=1, sg=0\n",
    "Accuracy: 0.39529893689651807\n",
    "\n",
    "#### b25-sn-v256-d param: vector_size=256, window=20, min_count=1, sg=1, ns_exponent=0.0\n",
    "Accuracy: 0.4845411099190481\n",
    "\n",
    "#### b25-sn-v512-a param: vector_size=512, window=100, min_count=1, sg=0\n",
    "Accuracy: 0.5000487662147665\n",
    "\n",
    "#### b25-sn-v512-b param: vector_size=512, window=100, min_count=1, sg=1, ns_exponent=0.0\n",
    "Accuracy: 0.6720959719106603\n",
    "\n",
    "\n"
   ]
  },
  {
   "cell_type": "markdown",
   "metadata": {},
   "source": [
    "## Old not Accurate Results..."
   ]
  },
  {
   "cell_type": "code",
   "execution_count": null,
   "metadata": {},
   "outputs": [],
   "source": [
    "# first model b25-sn-v256: just the base data with no tweaks of the data and the most basic var of the model\n",
    "# 0.07389817629179331 accuracy over 100 playlists is very low as far as i feel how good the suggested songs are from the model\n",
    "# don't know if the number will rise with more playlist but the code needs more optimizing\n",
    "\n",
    "# second model b25-sn-v256-b: training it with a bigger dataset - base is the normal dataset but extended with shuffeld playlists on top\n",
    "# 0.2773556231003039 accuracy over 100 playlist - thats a solid score if you think about every 1/4 songs that is suggested is correct\n",
    "# decent result for a second draft\n",
    "\n",
    "# third model b25-sn-v256-c: based on model the data of b25-sn-v256-b but the context window is now 20 not 5\n",
    "# 0.48822188449848025 accuracy over 100 playlists thats a good score for songs suggestion\n",
    "\n",
    "# b25-sn-v256-d: reduced training data to 80% of the set to have a better testing without the chance of overfitting\n",
    "# 0.21337249481686246 accuracy over 100 playlists - was to be anticipated because of reducing the training set and the split of train and test data\n",
    "# still need to test all models against a way bigger chunck of the test set\n",
    "# before splitting test and train the data should be shuffeld to remove bias of the data to a specific section\n",
    "\n",
    "# tested b25-sn-v256-c again but with only the first pick beeing good or bad\n",
    "# 0.37232204561161025 is still a solide score for a normal test without mostly any biase\n",
    "\n",
    "# b25-sn-v256-f bigger vector of 512 and a bigger window of 100 while training\n",
    "#  accuracy\n",
    "\n",
    "# comments about the testing\n",
    "# still need to test them against way more playlists not only 100\n",
    "# also need to cut between training and test data to prevent overfitting the model to the values i just want to here\n",
    "# it would be interesting what accuracy is possible to reach with this approach\n",
    "# could also extend the context window\n",
    "# also some basic data exploration needs to be done"
   ]
  },
  {
   "cell_type": "code",
   "execution_count": null,
   "metadata": {},
   "outputs": [],
   "source": [
    "# just some manuel testing of the model\n",
    "\n",
    "song = test_set[0][0]\n",
    "\n",
    "matches = [key for key in model.wv.key_to_index.keys() if song in str(key).lower()]\n",
    "print(matches)"
   ]
  },
  {
   "cell_type": "code",
   "execution_count": 8,
   "metadata": {},
   "outputs": [
    {
     "name": "stdout",
     "output_type": "stream",
     "text": [
      "[('Last Summer lostprophets', 0.7225217223167419), ('Rooftops (A Liberation Broadcast) lostprophets', 0.6294268369674683), ('A Town Called Hypocrisy lostprophets', 0.6188012957572937), ('The Fake Sound Of Progress lostprophets', 0.6089041233062744), ('Shinobi vs. Dragon Ninja lostprophets', 0.6048405170440674), ('Yma O Hyd Dafydd Iwan', 0.6037296056747437), ('The Outside Half Factory - Live At Treorchy Max Boyce', 0.6012468338012695), ('Men of Harlech Traditional Song', 0.5968717336654663), ('Together We Stand 4th Street Traffic', 0.5967941880226135), (\"We'll Keep A Welcome Canoldir Male Voice Choir\", 0.5960149765014648), (\"We'll keep a welcome Lyn Joshua\", 0.593635618686676), ('The Scottish Trip - Live At Treorchy Max Boyce', 0.5926573872566223), ('Hymns And Arias - Live At Treorchy Max Boyce', 0.5910407304763794), ('Calon Lan Traditional Welsh', 0.5909411311149597), ('As Long As We Beat The English 4th Street Traffic', 0.5905913710594177), ('Sosban Fach Caernarfon Male Voice Choir', 0.5899103283882141), ('Land of My Fathers Traditional', 0.588842511177063), ('Make A Move lostprophets', 0.5844337940216064), ('Burn, Burn lostprophets', 0.5791470408439636), ('Goodbye Tonight lostprophets', 0.5777792930603027), ('We Still Kill The Old Way lostprophets', 0.5759356021881104), ('Kobrakai lostprophets', 0.5732223987579346), ('To Hell We Ride lostprophets', 0.571776270866394), ('For Sure lostprophets', 0.5686106085777283), (\"I Don't Know lostprophets\", 0.5665867924690247), ('Start Something lostprophets', 0.558538019657135), (nan, 0.5583750605583191), ('Liquid Confidence (Nothing To Lose) You Me At Six', 0.5570206046104431), (nan, 0.5559097528457642), ('And The Hero Will Drown Story Of The Year', 0.5556070804595947), ('Hello Again lostprophets', 0.554878294467926), ('A Million Miles lostprophets', 0.5545516610145569), ('Rooftops lostprophets', 0.5542521476745605), (nan, 0.5540352463722229), (nan, 0.5512311458587646), (nan, 0.5511801242828369), (nan, 0.5510252714157104), (\"Misery Loves It's Company (Alliance Edition) The Red Jumpsuit Apparatus\", 0.5490207672119141), (nan, 0.5486141443252563), ('Burn Burn lostprophets', 0.548176109790802), ('Smothered Spineshank', 0.5476939678192139), ('Punk Rock Princess - Intl. Radio Edit Something Corporate', 0.5468074083328247), (\"I'm A Cloud Boy Hits Car\", 0.546393871307373), ('Just My Heart Quietdrive', 0.5456845760345459), ('Hey Now - What Are You Waiting For Album Version Fm Static', 0.5455647110939026), ('I Told You So... Mimi Soya', 0.5440638661384583), ('Juneau Funeral For A Friend', 0.5439316034317017), ('Killafornia - feat. B.Real Chopped & Screwed Explicit Version Transplants', 0.5434565544128418), ('Wake Up [make A Move] lostprophets', 0.5432863235473633), ('Your Guardian Angel (Alliance Edition) The Red Jumpsuit Apparatus', 0.5429437756538391), ('Cat and Mouse (Alliance Edition) The Red Jumpsuit Apparatus', 0.5424609780311584), ('Home for A Rest Mudmen', 0.5424339175224304), ('Where We Belong - Radio Edit lostprophets', 0.5420532822608948), ('Hell Yeah! zebrahead', 0.5413171052932739), ('Resign The Click Five', 0.5411596894264221), ('False Pretense (Alliance Edition) The Red Jumpsuit Apparatus', 0.5410394072532654), ('Livin a Lie Mudmen', 0.5408685207366943), ('Absolutely Clear Gate Crasher', 0.5403432846069336), ('...And She Told Me To Leave lostprophets', 0.5403326749801636), ('Fullmetal Alchemist: Brotherhood Opening NateWantsToBattle', 0.5400210618972778), ('Beginning Of The End Spineshank', 0.5395749807357788), ('Anything Can Happen In The Next Half Hour... Enter Shikari', 0.5395584106445312), ('Only In The Evening Seeking Through Silence', 0.5393542051315308), ('Overrated Mudmen', 0.5392179489135742), ('Mad World 3808', 0.539090096950531), ('Give It To Me Now - Radio Mix Energy Syndicate', 0.5378172993659973), (\"Mother Nature's Revenge Scapegoat\", 0.5366963148117065), ('Now & Again Mudmen', 0.5364112257957458), ('Ready and Willing Self Against City', 0.5363393425941467), ('Telephone Beyoncé', 0.5355116724967957), ('I Wish I Was A Girl - Dirty Version Violent Delight', 0.5353723168373108), ('The Curse of Curves Cute is What We Aim For', 0.5349186062812805), ('Welcome to Oblivion Unwritten Law', 0.5348254442214966), ('Wake Up (Make A Move) lostprophets', 0.5347948670387268), ('What It Is To Burn - Unreleased version Finch', 0.5344824194908142), ('Holiday Mudmen', 0.5344560146331787), ('An Introduction To Awareness The Big Pink', 0.5340487957000732), ('We Are Godzilla You Are Japan lostprophets', 0.5339809060096741), ('Criminal Scapegoat', 0.5337572693824768), ('Everyone Mudmen', 0.5336700677871704), ('Divinery Abstract Posters', 0.5335343480110168), ('We Are Godzilla, You Are Japan lostprophets', 0.5334987044334412), ('Get Shaky - Original Mix Ian Carey Project', 0.5332230925559998), ('Sway lostprophets', 0.5331652164459229), ('Manatee Scapegoat', 0.5325481295585632), ('When I Fall Mudmen', 0.5324835181236267), (\"Three O'clock SMP\", 0.5321950316429138), ('Why Go:Audio', 0.5320855379104614), ('The Asphyxiation Process Nehemiah', 0.5319992899894714), ('Tear Me Down Mudmen', 0.5319688320159912), ('Nothing A', 0.5315426588058472), ('Guren No Yumiya (From Attack On Titan\") - Vocal Version\" RMaster', 0.5312833786010742), ('Any Given Day Mudmen', 0.53122478723526), ('Slip Away Dry Cell', 0.5304612517356873), ('Not Fair - Annie Nightingale & Far Too Loud Electro Remix Lily Allen', 0.5303992033004761), ('There Is Something On Your Mind Parts 1 & 2 Bobby Marchan', 0.530198872089386), ('Empty Mudmen', 0.5297651886940002), ('Kiss And Tell You Me At Six', 0.5296825170516968), ('Wave The Flags Happy Campers', 0.5293915271759033), ('Little Bit More Tony C. And The Truth', 0.5293821692466736)]\n"
     ]
    }
   ],
   "source": [
    "print(model.wv.most_similar(tokenized_playlists[10][0], topn=100))"
   ]
  },
  {
   "cell_type": "code",
   "execution_count": null,
   "metadata": {},
   "outputs": [],
   "source": []
  }
 ],
 "metadata": {
  "kernelspec": {
   "display_name": "venv",
   "language": "python",
   "name": "python3"
  },
  "language_info": {
   "codemirror_mode": {
    "name": "ipython",
    "version": 3
   },
   "file_extension": ".py",
   "mimetype": "text/x-python",
   "name": "python",
   "nbconvert_exporter": "python",
   "pygments_lexer": "ipython3",
   "version": "3.10.11"
  }
 },
 "nbformat": 4,
 "nbformat_minor": 2
}
