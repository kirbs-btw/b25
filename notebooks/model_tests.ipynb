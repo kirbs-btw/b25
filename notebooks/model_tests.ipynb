{
 "cells": [
  {
   "cell_type": "code",
   "execution_count": 1,
   "metadata": {},
   "outputs": [],
   "source": [
    "import gensim\n",
    "from gensim.models import Word2Vec\n",
    "from nltk.tokenize import word_tokenize\n",
    "import nltk\n",
    "import pandas as pd\n",
    "import pickle"
   ]
  },
  {
   "cell_type": "code",
   "execution_count": null,
   "metadata": {},
   "outputs": [],
   "source": [
    "# model = Word2Vec.load(\"../models/b25-sn-v256/b25-sn-v256.model\")\n",
    "model = Word2Vec.load(\"../models/b25-sn-v512/b25-sn-v512-b.model\")"
   ]
  },
  {
   "cell_type": "code",
   "execution_count": 2,
   "metadata": {},
   "outputs": [],
   "source": [
    "from algo_testing import son2vecgl_a\n",
    "\n",
    "with open(\n",
    "    \"../models/b25-sn-v512/b25-sn-v512-g.pkl\", \"rb\"\n",
    ") as file:  # \"rb\" means read in binary mode\n",
    "    model = pickle.load(file)"
   ]
  },
  {
   "cell_type": "code",
   "execution_count": 3,
   "metadata": {},
   "outputs": [],
   "source": [
    "with open(\"../data/tokenized_data/playlist_names/dataset_test.pkl\", \"rb\") as f:\n",
    "    tokenized_playlists = pickle.load(f)"
   ]
  },
  {
   "cell_type": "code",
   "execution_count": null,
   "metadata": {},
   "outputs": [],
   "source": [
    "print(model.nearest_k1(tokenized_playlists[0][0]))"
   ]
  },
  {
   "cell_type": "code",
   "execution_count": null,
   "metadata": {},
   "outputs": [
    {
     "name": "stdout",
     "output_type": "stream",
     "text": [
      "Total songs: 3430\n",
      "correct: 15\n",
      "Accuracy: 0.009505703422053232\n",
      "Tested: 3430\n",
      "Wrong: 0\n"
     ]
    }
   ],
   "source": [
    "tested = 0\n",
    "correct = 0\n",
    "\n",
    "test_set = tokenized_playlists[:100]\n",
    "a = 0\n",
    "for playlist in test_set:\n",
    "    a += len(playlist)\n",
    "print(f\"Total songs: {a}\")\n",
    "\n",
    "vgl_a = 0\n",
    "vgl_b = 0\n",
    "\n",
    "for playlist in test_set:\n",
    "    for song in playlist:\n",
    "        vgl_a += 1\n",
    "\n",
    "        # try:\n",
    "\n",
    "        # similar_words = model.wv.most_similar(song, topn=1)\n",
    "        # similar_words = model.nearest(song, k=1)\n",
    "        similar_words = model.nearest(song, k=1)\n",
    "        if similar_words == []:\n",
    "            continue\n",
    "\n",
    "        tested += 1\n",
    "\n",
    "        if any(word[0] in playlist for word in similar_words):\n",
    "            correct += 1\n",
    "        # except:\n",
    "        #     vgl_b += 1\n",
    "        #     continue\n",
    "\n",
    "\n",
    "print(f\"correct: {correct}\")\n",
    "print(f\"Accuracy: {correct/tested}\")\n",
    "print(f\"Tested: {vgl_a}\")\n",
    "print(f\"Wrong: {vgl_b}\")\n",
    "\n",
    "# alpha = 0.8 --> 0.014339622641509434 accuracy\n",
    "# alpha = 0.5 --> 0.014339622641509434 accuracy\n",
    "# alpha = 0.015 --> 0.013584905660377358 accuracy\n",
    "# alpha = 0.015 epoch 15 --> 0.055304740406320545 accuracy\n",
    "# alpha = 0.015 epoch 30 --> 0.056 --> 15 epoch where it konverges\n",
    "# need to change something about the algorithm...\n",
    "# alpha = 0.015 epoch 30 + fuzzy testing (k=5) --> Accuracy: 0.10533333333333333\n",
    "# the algorithm somewhat shows it's going in the right direction but needs an other approche\n",
    "# alpha = 0.015 epoch 15 + trained with the whole dataset --> Accuracy (over 50 playlists): 0.21962264150943397\n",
    "# alpah = 0.025 epoch 15 + whole set --> Accuracy: 0.23622641509433961\n",
    "# alpah = 0.025 epoch 15 + whole set + included L2 Norm as score --> Accuracy: 0.052830188679245285\n",
    "\n",
    "\n",
    "# gloVe type algo:\n",
    "# alpha = 0.025 epoch 15 *1000 playlists vector_size = 512 --> Accuracy: 0.009505703422053232"
   ]
  },
  {
   "cell_type": "code",
   "execution_count": null,
   "metadata": {},
   "outputs": [],
   "source": [
    "test_set = tokenized_playlists[:100]\n",
    "\n",
    "# Function to calculate Precision@K\n",
    "def precision_at_k(model, test_playlists, k):\n",
    "    \"\"\"\n",
    "    Calculates Precision@K for a recommendation model.\n",
    "\n",
    "    Args:\n",
    "        model: The trained recommendation model with a predict method.\n",
    "        test_playlists (list of lists): A list of playlists, where each playlist is a list of ground truth songs.\n",
    "        k (int): The number of top recommendations to consider.\n",
    "\n",
    "    Returns:\n",
    "        float: The average Precision@K across all test playlists.\n",
    "    \"\"\"\n",
    "    precision_scores = []\n",
    "\n",
    "    for playlist in test_playlists:\n",
    "        # Exclude one song from the playlist as the \"input context\"\n",
    "        input_context = playlist[:-1]\n",
    "        ground_truth_song = playlist[-1]\n",
    "\n",
    "        # Get model predictions (ranked list of recommended songs)\n",
    "        predictions = model.predict(input_context)\n",
    "\n",
    "        # Take the top-K predictions\n",
    "        top_k_predictions = predictions[:k]\n",
    "\n",
    "        # Check if the ground truth song is in the top-K predictions\n",
    "        relevant_items = [song for song in top_k_predictions if song in playlist]\n",
    "        precision = len(relevant_items) / k\n",
    "        \n",
    "        precision_scores.append(precision)\n",
    "\n",
    "    # Return the average Precision@K\n",
    "    return sum(precision_scores) / len(precision_scores)\n",
    "\n",
    "# Example usage\n",
    "# Assuming `model` is your trained recommendation model\n",
    "# and `test_playlists` is a list of playlists from the test set\n",
    "k = 10\n",
    "precision_k = precision_at_k(model, test_set, k)\n",
    "print(f\"Precision@{k}: {precision_k}\")\n"
   ]
  },
  {
   "cell_type": "markdown",
   "metadata": {},
   "source": [
    "# Second Test with the Combined Artist and Trackname \n",
    "to exclude songs named the same with different vibe\n",
    "\n",
    "#### b25-sn-v50 param: vector_size=50, window=5, min_count=1, sg=0\n",
    "Accuracy: 0.36720959719106605\n",
    "\n",
    "#### b25-sn-v256-a param: vector_size=256, window=5, min_count=1, sg=0\n",
    "Accuracy: 0.36691699990246757\n",
    "\n",
    "#### b25-sn-v256-b param: vector_size=256, window=10, min_count=1, sg=0\n",
    "Accuracy: 0.43333658441431777\n",
    "\n",
    "#### b25-sn-v256-c param: vector_size=256, window=20, min_count=1, sg=0\n",
    "Accuracy: 0.4426996976494684\n",
    "\n",
    "#### b25-sn-v256-d param: vector_size=256, window=20, min_count=1, sg=1, ns_exponent=0.0\n",
    "Accuracy: 0.6513215644201698\n",
    "\n",
    "#### b25-sn-v512-a param: vector_size=512, window=100, min_count=1, sg=0\n",
    "Accuracy: 0.5702721154783965\n",
    "\n",
    "#### b25-sn-v512-b param: vector_size=512, window=100, min_count=1, sg=1, ns_exponent=0.0\n",
    "Accuracy: 0.773919828342924\n",
    "\n",
    "#### b25-sn-v512-d - CBOS param: vector_size=512, epochs=5, learning_rate=0.015*\n",
    "\n",
    "Accuracy: 0.08009367681498829\n",
    "\n",
    "#### b25-sn-v512-e param: vector_size: 512, window=inf, min_count=1, epochs=15, learning_rate=0.025, algo=CBOS-d\n",
    "Accuracy: 0.052830188679245285\n",
    "* Used distance to add a score to the gradient\n",
    "\n",
    "#### b25-snv128-f param: vector_size: 128, window=inf, min_count=1, epochs=15, learning_rate=0.025, algo=GLSE\n",
    "Accuracy: 0.0038022813688212928\n",
    "\n",
    "\n",
    "\n",
    "\\* trained with only 3.5% of the training data "
   ]
  },
  {
   "cell_type": "markdown",
   "metadata": {},
   "source": [
    "## Unit tested Results"
   ]
  },
  {
   "cell_type": "markdown",
   "metadata": {},
   "source": [
    "#### b25-sn-v50 param: vector_size=50, window=5, min_count=1, sg=0\n",
    "Accuracy: 0.260704184141227\n",
    "\n",
    "#### b25-sn-v256-a param: vector_size=256, window=5, min_count=1, sg=0\n",
    "Accuracy: 0.28089339705452065\n",
    "\n",
    "#### b25-sn-v256-b param: vector_size=256, window=10, min_count=1, sg=0\n",
    "Accuracy: 0.3198088364381157\n",
    "\n",
    "#### b25-sn-v256-c param: vector_size=256, window=20, min_count=1, sg=0\n",
    "Accuracy: 0.39529893689651807\n",
    "\n",
    "#### b25-sn-v256-d param: vector_size=256, window=20, min_count=1, sg=1, ns_exponent=0.0\n",
    "Accuracy: 0.4845411099190481\n",
    "\n",
    "#### b25-sn-v512-a param: vector_size=512, window=100, min_count=1, sg=0\n",
    "Accuracy: 0.5000487662147665\n",
    "\n",
    "#### b25-sn-v512-b param: vector_size=512, window=100, min_count=1, sg=1, ns_exponent=0.0\n",
    "Accuracy: 0.6720959719106603\n",
    "\n",
    "\n"
   ]
  },
  {
   "cell_type": "markdown",
   "metadata": {},
   "source": [
    "## Old not Accurate Results..."
   ]
  },
  {
   "cell_type": "code",
   "execution_count": null,
   "metadata": {},
   "outputs": [],
   "source": [
    "# first model b25-sn-v256: just the base data with no tweaks of the data and the most basic var of the model\n",
    "# 0.07389817629179331 accuracy over 100 playlists is very low as far as i feel how good the suggested songs are from the model\n",
    "# don't know if the number will rise with more playlist but the code needs more optimizing\n",
    "\n",
    "# second model b25-sn-v256-b: training it with a bigger dataset - base is the normal dataset but extended with shuffeld playlists on top\n",
    "# 0.2773556231003039 accuracy over 100 playlist - thats a solid score if you think about every 1/4 songs that is suggested is correct\n",
    "# decent result for a second draft\n",
    "\n",
    "# third model b25-sn-v256-c: based on model the data of b25-sn-v256-b but the context window is now 20 not 5\n",
    "# 0.48822188449848025 accuracy over 100 playlists thats a good score for songs suggestion\n",
    "\n",
    "# b25-sn-v256-d: reduced training data to 80% of the set to have a better testing without the chance of overfitting\n",
    "# 0.21337249481686246 accuracy over 100 playlists - was to be anticipated because of reducing the training set and the split of train and test data\n",
    "# still need to test all models against a way bigger chunck of the test set\n",
    "# before splitting test and train the data should be shuffeld to remove bias of the data to a specific section\n",
    "\n",
    "# tested b25-sn-v256-c again but with only the first pick beeing good or bad\n",
    "# 0.37232204561161025 is still a solide score for a normal test without mostly any biase\n",
    "\n",
    "# b25-sn-v256-f bigger vector of 512 and a bigger window of 100 while training\n",
    "#  accuracy\n",
    "\n",
    "# comments about the testing\n",
    "# still need to test them against way more playlists not only 100\n",
    "# also need to cut between training and test data to prevent overfitting the model to the values i just want to here\n",
    "# it would be interesting what accuracy is possible to reach with this approach\n",
    "# could also extend the context window\n",
    "# also some basic data exploration needs to be done"
   ]
  },
  {
   "cell_type": "code",
   "execution_count": null,
   "metadata": {},
   "outputs": [],
   "source": [
    "# just some manuel testing of the model\n",
    "\n",
    "song = \"good kid\".lower()\n",
    "\n",
    "matches = [key for key in model.wv.key_to_index.keys() if song in str(key).lower()]\n",
    "print(matches)"
   ]
  }
 ],
 "metadata": {
  "kernelspec": {
   "display_name": "venv",
   "language": "python",
   "name": "python3"
  },
  "language_info": {
   "codemirror_mode": {
    "name": "ipython",
    "version": 3
   },
   "file_extension": ".py",
   "mimetype": "text/x-python",
   "name": "python",
   "nbconvert_exporter": "python",
   "pygments_lexer": "ipython3",
   "version": "3.10.11"
  }
 },
 "nbformat": 4,
 "nbformat_minor": 2
}
