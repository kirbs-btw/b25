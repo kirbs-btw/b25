{
 "cells": [
  {
   "cell_type": "code",
   "execution_count": 2,
   "metadata": {},
   "outputs": [],
   "source": [
    "import gensim\n",
    "from gensim.models import Word2Vec\n",
    "from nltk.tokenize import word_tokenize\n",
    "import nltk\n",
    "import pandas as pd"
   ]
  },
  {
   "cell_type": "code",
   "execution_count": 3,
   "metadata": {},
   "outputs": [],
   "source": [
    "model = Word2Vec.load(\"../models/b25-sn-v256/b25-sn-v256.model\")"
   ]
  },
  {
   "cell_type": "code",
   "execution_count": 4,
   "metadata": {},
   "outputs": [],
   "source": [
    "import pickle\n",
    "\n",
    "with open('../data/tokenized_data/playlist_names/playlist_names_big_tokenized.pkl', 'rb') as f:\n",
    "    tokenized_playlists = pickle.load(f)"
   ]
  },
  {
   "cell_type": "code",
   "execution_count": 14,
   "metadata": {},
   "outputs": [
    {
     "name": "stdout",
     "output_type": "stream",
     "text": [
      "Accuracy: 0.16908212560386474\n"
     ]
    }
   ],
   "source": [
    "tested = 0\n",
    "correct = 0\n",
    "\n",
    "test_set = tokenized_playlists[0:100]\n",
    "\n",
    "for playlist in test_set:\n",
    "    for song in playlist:\n",
    "        tested += 1\n",
    "        similar_words = model.wv.most_similar(song, topn=3)\n",
    "        is_correct = False\n",
    "        for word in similar_words:\n",
    "            if word[0] in playlist:\n",
    "                is_correct = True\n",
    "        if is_correct: correct += 1\n",
    "\n",
    "print(f\"Accuracy: {correct/tested}\")\n",
    "\n"
   ]
  },
  {
   "cell_type": "code",
   "execution_count": 14,
   "metadata": {},
   "outputs": [
    {
     "name": "stdout",
     "output_type": "stream",
     "text": [
      "[('Party in the usa', 0.9999999403953552), ('Walking Towards Paradise', 0.9291204214096069), ('Valley Song', 0.9278215765953064), ('Val Venus', 0.9273210763931274), ('Wait for cry', 0.927023708820343)]\n"
     ]
    }
   ],
   "source": [
    "word = \"Party in the usa\"\n",
    "\n",
    "word_embedding = model.wv[\"Party in the usa\"]\n",
    "\n",
    "similar_words = model.wv.most_similar(word_embedding, topn=1)\n",
    "print(similar_words)"
   ]
  },
  {
   "cell_type": "code",
   "execution_count": 12,
   "metadata": {},
   "outputs": [
    {
     "name": "stdout",
     "output_type": "stream",
     "text": [
      "True\n"
     ]
    }
   ],
   "source": [
    "print(\"Party in the usa\" in model.wv)\n",
    "\n",
    "# model.wv.key_to_index\n",
    "\n"
   ]
  },
  {
   "cell_type": "code",
   "execution_count": null,
   "metadata": {},
   "outputs": [],
   "source": []
  }
 ],
 "metadata": {
  "kernelspec": {
   "display_name": "venv",
   "language": "python",
   "name": "python3"
  },
  "language_info": {
   "codemirror_mode": {
    "name": "ipython",
    "version": 3
   },
   "file_extension": ".py",
   "mimetype": "text/x-python",
   "name": "python",
   "nbconvert_exporter": "python",
   "pygments_lexer": "ipython3",
   "version": "3.10.11"
  }
 },
 "nbformat": 4,
 "nbformat_minor": 2
}
