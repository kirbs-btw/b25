{
 "cells": [
  {
   "cell_type": "code",
   "execution_count": 2,
   "metadata": {},
   "outputs": [],
   "source": [
    "import gensim\n",
    "from gensim.models import Word2Vec\n",
    "from nltk.tokenize import word_tokenize\n",
    "import nltk\n",
    "import pandas as pd"
   ]
  },
  {
   "cell_type": "code",
   "execution_count": 3,
   "metadata": {},
   "outputs": [],
   "source": [
    "# model = Word2Vec.load(\"../models/b25-sn-v256/b25-sn-v256.model\")\n",
    "model = Word2Vec.load(\"../models/b25-sn-v256/b25-sn-v256-b.model\")"
   ]
  },
  {
   "cell_type": "code",
   "execution_count": 4,
   "metadata": {},
   "outputs": [],
   "source": [
    "import pickle\n",
    "\n",
    "with open('../data/tokenized_data/playlist_names/playlist_names_big_tokenized.pkl', 'rb') as f:\n",
    "    tokenized_playlists = pickle.load(f)"
   ]
  },
  {
   "cell_type": "code",
   "execution_count": 5,
   "metadata": {},
   "outputs": [
    {
     "name": "stdout",
     "output_type": "stream",
     "text": [
      "Accuracy: 0.2773556231003039\n"
     ]
    }
   ],
   "source": [
    "tested = 0\n",
    "correct = 0\n",
    "\n",
    "test_set = tokenized_playlists[0:100]\n",
    "\n",
    "for playlist in test_set:\n",
    "    for song in playlist:\n",
    "        tested += 1\n",
    "        similar_words = model.wv.most_similar(song, topn=3)\n",
    "        is_correct = False\n",
    "        for word in similar_words:\n",
    "            if word[0] in playlist:\n",
    "                is_correct = True\n",
    "        if is_correct: correct += 1\n",
    "\n",
    "print(f\"Accuracy: {correct/tested}\")\n",
    "\n"
   ]
  },
  {
   "cell_type": "code",
   "execution_count": null,
   "metadata": {},
   "outputs": [],
   "source": [
    "# first model b25-sn-v256: just the base data with no tweaks of the data and the most basic var of the model\n",
    "# 0.07389817629179331 accuracy over 100 playlists is very low as far as i feel how good the suggested songs are from the model \n",
    "# don't know if the number will rise with more playlist but the code needs more optimizing \n",
    "\n",
    "# secong model b25-sn-v256-b: training it with a bigger dataset - base is the normal dataset but extended with shuffeld playlists on top \n",
    "# 0.2773556231003039 accuracy over 100 playlist - thats a solid score if you think about every 1/4 songs that is suggested is correct "
   ]
  },
  {
   "cell_type": "code",
   "execution_count": 24,
   "metadata": {},
   "outputs": [
    {
     "name": "stdout",
     "output_type": "stream",
     "text": [
      "[('Break It Down', 0.9991317987442017), ('Breaking Glass - Live', 0.9989889860153198), ('Bolivia', 0.9989163875579834), ('Bucephalus Bouncing Ball', 0.9988912343978882), ('Boy Meets Girl', 0.998843252658844)]\n"
     ]
    }
   ],
   "source": [
    "word = \"Von Party zu Party\"\n",
    "\n",
    "# word_embedding = model.wv[\"Paint it Black\"]\n",
    "\n",
    "similar_words = model.wv.most_similar(word, topn=5)\n",
    "print(similar_words)"
   ]
  },
  {
   "cell_type": "code",
   "execution_count": 25,
   "metadata": {},
   "outputs": [
    {
     "name": "stdout",
     "output_type": "stream",
     "text": [
      "False\n"
     ]
    }
   ],
   "source": [
    "print(\"Von Party zu Party\" in model.wv)\n",
    "\n",
    "# model.wv.key_to_index\n",
    "\n"
   ]
  },
  {
   "cell_type": "code",
   "execution_count": null,
   "metadata": {},
   "outputs": [],
   "source": []
  }
 ],
 "metadata": {
  "kernelspec": {
   "display_name": "venv",
   "language": "python",
   "name": "python3"
  },
  "language_info": {
   "codemirror_mode": {
    "name": "ipython",
    "version": 3
   },
   "file_extension": ".py",
   "mimetype": "text/x-python",
   "name": "python",
   "nbconvert_exporter": "python",
   "pygments_lexer": "ipython3",
   "version": "3.10.11"
  }
 },
 "nbformat": 4,
 "nbformat_minor": 2
}
