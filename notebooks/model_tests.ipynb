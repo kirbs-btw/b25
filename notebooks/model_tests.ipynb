{
 "cells": [
  {
   "cell_type": "code",
   "execution_count": 1,
   "metadata": {},
   "outputs": [],
   "source": [
    "import gensim\n",
    "from gensim.models import Word2Vec\n",
    "from nltk.tokenize import word_tokenize\n",
    "import nltk\n",
    "import pandas as pd\n",
    "import pickle"
   ]
  },
  {
   "cell_type": "code",
   "execution_count": 2,
   "metadata": {},
   "outputs": [
    {
     "ename": "KeyboardInterrupt",
     "evalue": "",
     "output_type": "error",
     "traceback": [
      "\u001b[1;31m---------------------------------------------------------------------------\u001b[0m",
      "\u001b[1;31mKeyboardInterrupt\u001b[0m                         Traceback (most recent call last)",
      "Cell \u001b[1;32mIn[2], line 2\u001b[0m\n\u001b[0;32m      1\u001b[0m \u001b[38;5;66;03m# model = Word2Vec.load(\"../models/b25-sn-v256/b25-sn-v256.model\")\u001b[39;00m\n\u001b[1;32m----> 2\u001b[0m model \u001b[38;5;241m=\u001b[39m \u001b[43mWord2Vec\u001b[49m\u001b[38;5;241;43m.\u001b[39;49m\u001b[43mload\u001b[49m\u001b[43m(\u001b[49m\u001b[38;5;124;43m\"\u001b[39;49m\u001b[38;5;124;43m../models/b25-sn-v512/b25-sn-v512-b.model\u001b[39;49m\u001b[38;5;124;43m\"\u001b[39;49m\u001b[43m)\u001b[49m\n",
      "File \u001b[1;32mc:\\Users\\lipka\\HARD_DRIVE\\Projekte\\Projekte\\Project 146\\b25-model\\venv\\lib\\site-packages\\gensim\\models\\word2vec.py:1953\u001b[0m, in \u001b[0;36mWord2Vec.load\u001b[1;34m(cls, rethrow, *args, **kwargs)\u001b[0m\n\u001b[0;32m   1934\u001b[0m \u001b[38;5;250m\u001b[39m\u001b[38;5;124;03m\"\"\"Load a previously saved :class:`~gensim.models.word2vec.Word2Vec` model.\u001b[39;00m\n\u001b[0;32m   1935\u001b[0m \n\u001b[0;32m   1936\u001b[0m \u001b[38;5;124;03mSee Also\u001b[39;00m\n\u001b[1;32m   (...)\u001b[0m\n\u001b[0;32m   1950\u001b[0m \n\u001b[0;32m   1951\u001b[0m \u001b[38;5;124;03m\"\"\"\u001b[39;00m\n\u001b[0;32m   1952\u001b[0m \u001b[38;5;28;01mtry\u001b[39;00m:\n\u001b[1;32m-> 1953\u001b[0m     model \u001b[38;5;241m=\u001b[39m \u001b[38;5;28msuper\u001b[39m(Word2Vec, \u001b[38;5;28mcls\u001b[39m)\u001b[38;5;241m.\u001b[39mload(\u001b[38;5;241m*\u001b[39margs, \u001b[38;5;241m*\u001b[39m\u001b[38;5;241m*\u001b[39mkwargs)\n\u001b[0;32m   1954\u001b[0m     \u001b[38;5;28;01mif\u001b[39;00m \u001b[38;5;129;01mnot\u001b[39;00m \u001b[38;5;28misinstance\u001b[39m(model, Word2Vec):\n\u001b[0;32m   1955\u001b[0m         rethrow \u001b[38;5;241m=\u001b[39m \u001b[38;5;28;01mTrue\u001b[39;00m\n",
      "File \u001b[1;32mc:\\Users\\lipka\\HARD_DRIVE\\Projekte\\Projekte\\Project 146\\b25-model\\venv\\lib\\site-packages\\gensim\\utils.py:486\u001b[0m, in \u001b[0;36mSaveLoad.load\u001b[1;34m(cls, fname, mmap)\u001b[0m\n\u001b[0;32m    483\u001b[0m compress, subname \u001b[38;5;241m=\u001b[39m SaveLoad\u001b[38;5;241m.\u001b[39m_adapt_by_suffix(fname)\n\u001b[0;32m    485\u001b[0m obj \u001b[38;5;241m=\u001b[39m unpickle(fname)\n\u001b[1;32m--> 486\u001b[0m \u001b[43mobj\u001b[49m\u001b[38;5;241;43m.\u001b[39;49m\u001b[43m_load_specials\u001b[49m\u001b[43m(\u001b[49m\u001b[43mfname\u001b[49m\u001b[43m,\u001b[49m\u001b[43m \u001b[49m\u001b[43mmmap\u001b[49m\u001b[43m,\u001b[49m\u001b[43m \u001b[49m\u001b[43mcompress\u001b[49m\u001b[43m,\u001b[49m\u001b[43m \u001b[49m\u001b[43msubname\u001b[49m\u001b[43m)\u001b[49m\n\u001b[0;32m    487\u001b[0m obj\u001b[38;5;241m.\u001b[39madd_lifecycle_event(\u001b[38;5;124m\"\u001b[39m\u001b[38;5;124mloaded\u001b[39m\u001b[38;5;124m\"\u001b[39m, fname\u001b[38;5;241m=\u001b[39mfname)\n\u001b[0;32m    488\u001b[0m \u001b[38;5;28;01mreturn\u001b[39;00m obj\n",
      "File \u001b[1;32mc:\\Users\\lipka\\HARD_DRIVE\\Projekte\\Projekte\\Project 146\\b25-model\\venv\\lib\\site-packages\\gensim\\models\\word2vec.py:1969\u001b[0m, in \u001b[0;36mWord2Vec._load_specials\u001b[1;34m(self, *args, **kwargs)\u001b[0m\n\u001b[0;32m   1967\u001b[0m \u001b[38;5;28;01mdef\u001b[39;00m \u001b[38;5;21m_load_specials\u001b[39m(\u001b[38;5;28mself\u001b[39m, \u001b[38;5;241m*\u001b[39margs, \u001b[38;5;241m*\u001b[39m\u001b[38;5;241m*\u001b[39mkwargs):\n\u001b[0;32m   1968\u001b[0m \u001b[38;5;250m    \u001b[39m\u001b[38;5;124;03m\"\"\"Handle special requirements of `.load()` protocol, usually up-converting older versions.\"\"\"\u001b[39;00m\n\u001b[1;32m-> 1969\u001b[0m     \u001b[38;5;28msuper\u001b[39m(Word2Vec, \u001b[38;5;28mself\u001b[39m)\u001b[38;5;241m.\u001b[39m_load_specials(\u001b[38;5;241m*\u001b[39margs, \u001b[38;5;241m*\u001b[39m\u001b[38;5;241m*\u001b[39mkwargs)\n\u001b[0;32m   1970\u001b[0m     \u001b[38;5;66;03m# for backward compatibility, add/rearrange properties from prior versions\u001b[39;00m\n\u001b[0;32m   1971\u001b[0m     \u001b[38;5;28;01mif\u001b[39;00m \u001b[38;5;129;01mnot\u001b[39;00m \u001b[38;5;28mhasattr\u001b[39m(\u001b[38;5;28mself\u001b[39m, \u001b[38;5;124m'\u001b[39m\u001b[38;5;124mns_exponent\u001b[39m\u001b[38;5;124m'\u001b[39m):\n",
      "File \u001b[1;32mc:\\Users\\lipka\\HARD_DRIVE\\Projekte\\Projekte\\Project 146\\b25-model\\venv\\lib\\site-packages\\gensim\\utils.py:517\u001b[0m, in \u001b[0;36mSaveLoad._load_specials\u001b[1;34m(self, fname, mmap, compress, subname)\u001b[0m\n\u001b[0;32m    515\u001b[0m     logger\u001b[38;5;241m.\u001b[39minfo(\u001b[38;5;124m\"\u001b[39m\u001b[38;5;124mloading \u001b[39m\u001b[38;5;132;01m%s\u001b[39;00m\u001b[38;5;124m recursively from \u001b[39m\u001b[38;5;132;01m%s\u001b[39;00m\u001b[38;5;124m.* with mmap=\u001b[39m\u001b[38;5;132;01m%s\u001b[39;00m\u001b[38;5;124m\"\u001b[39m, attrib, cfname, mmap)\n\u001b[0;32m    516\u001b[0m     \u001b[38;5;28;01mwith\u001b[39;00m ignore_deprecation_warning():\n\u001b[1;32m--> 517\u001b[0m         \u001b[38;5;28;43mgetattr\u001b[39;49m\u001b[43m(\u001b[49m\u001b[38;5;28;43mself\u001b[39;49m\u001b[43m,\u001b[49m\u001b[43m \u001b[49m\u001b[43mattrib\u001b[49m\u001b[43m)\u001b[49m\u001b[38;5;241;43m.\u001b[39;49m\u001b[43m_load_specials\u001b[49m\u001b[43m(\u001b[49m\u001b[43mcfname\u001b[49m\u001b[43m,\u001b[49m\u001b[43m \u001b[49m\u001b[43mmmap\u001b[49m\u001b[43m,\u001b[49m\u001b[43m \u001b[49m\u001b[43mcompress\u001b[49m\u001b[43m,\u001b[49m\u001b[43m \u001b[49m\u001b[43msubname\u001b[49m\u001b[43m)\u001b[49m\n\u001b[0;32m    519\u001b[0m \u001b[38;5;28;01mfor\u001b[39;00m attrib \u001b[38;5;129;01min\u001b[39;00m \u001b[38;5;28mgetattr\u001b[39m(\u001b[38;5;28mself\u001b[39m, \u001b[38;5;124m'\u001b[39m\u001b[38;5;124m__numpys\u001b[39m\u001b[38;5;124m'\u001b[39m, []):\n\u001b[0;32m    520\u001b[0m     logger\u001b[38;5;241m.\u001b[39minfo(\u001b[38;5;124m\"\u001b[39m\u001b[38;5;124mloading \u001b[39m\u001b[38;5;132;01m%s\u001b[39;00m\u001b[38;5;124m from \u001b[39m\u001b[38;5;132;01m%s\u001b[39;00m\u001b[38;5;124m with mmap=\u001b[39m\u001b[38;5;132;01m%s\u001b[39;00m\u001b[38;5;124m\"\u001b[39m, attrib, subname(fname, attrib), mmap)\n",
      "File \u001b[1;32mc:\\Users\\lipka\\HARD_DRIVE\\Projekte\\Projekte\\Project 146\\b25-model\\venv\\lib\\site-packages\\gensim\\models\\keyedvectors.py:263\u001b[0m, in \u001b[0;36mKeyedVectors._load_specials\u001b[1;34m(self, *args, **kwargs)\u001b[0m\n\u001b[0;32m    261\u001b[0m \u001b[38;5;28;01mdef\u001b[39;00m \u001b[38;5;21m_load_specials\u001b[39m(\u001b[38;5;28mself\u001b[39m, \u001b[38;5;241m*\u001b[39margs, \u001b[38;5;241m*\u001b[39m\u001b[38;5;241m*\u001b[39mkwargs):\n\u001b[0;32m    262\u001b[0m \u001b[38;5;250m    \u001b[39m\u001b[38;5;124;03m\"\"\"Handle special requirements of `.load()` protocol, usually up-converting older versions.\"\"\"\u001b[39;00m\n\u001b[1;32m--> 263\u001b[0m     \u001b[38;5;28msuper\u001b[39m(KeyedVectors, \u001b[38;5;28mself\u001b[39m)\u001b[38;5;241m.\u001b[39m_load_specials(\u001b[38;5;241m*\u001b[39margs, \u001b[38;5;241m*\u001b[39m\u001b[38;5;241m*\u001b[39mkwargs)\n\u001b[0;32m    264\u001b[0m     \u001b[38;5;28;01mif\u001b[39;00m \u001b[38;5;28mhasattr\u001b[39m(\u001b[38;5;28mself\u001b[39m, \u001b[38;5;124m'\u001b[39m\u001b[38;5;124mdoctags\u001b[39m\u001b[38;5;124m'\u001b[39m):\n\u001b[0;32m    265\u001b[0m         \u001b[38;5;28mself\u001b[39m\u001b[38;5;241m.\u001b[39m_upconvert_old_d2vkv()\n",
      "File \u001b[1;32mc:\\Users\\lipka\\HARD_DRIVE\\Projekte\\Projekte\\Project 146\\b25-model\\venv\\lib\\site-packages\\gensim\\utils.py:528\u001b[0m, in \u001b[0;36mSaveLoad._load_specials\u001b[1;34m(self, fname, mmap, compress, subname)\u001b[0m\n\u001b[0;32m    526\u001b[0m     val \u001b[38;5;241m=\u001b[39m np\u001b[38;5;241m.\u001b[39mload(subname(fname, attrib))[\u001b[38;5;124m'\u001b[39m\u001b[38;5;124mval\u001b[39m\u001b[38;5;124m'\u001b[39m]\n\u001b[0;32m    527\u001b[0m \u001b[38;5;28;01melse\u001b[39;00m:\n\u001b[1;32m--> 528\u001b[0m     val \u001b[38;5;241m=\u001b[39m \u001b[43mnp\u001b[49m\u001b[38;5;241;43m.\u001b[39;49m\u001b[43mload\u001b[49m\u001b[43m(\u001b[49m\u001b[43msubname\u001b[49m\u001b[43m(\u001b[49m\u001b[43mfname\u001b[49m\u001b[43m,\u001b[49m\u001b[43m \u001b[49m\u001b[43mattrib\u001b[49m\u001b[43m)\u001b[49m\u001b[43m,\u001b[49m\u001b[43m \u001b[49m\u001b[43mmmap_mode\u001b[49m\u001b[38;5;241;43m=\u001b[39;49m\u001b[43mmmap\u001b[49m\u001b[43m)\u001b[49m\n\u001b[0;32m    530\u001b[0m \u001b[38;5;28;01mwith\u001b[39;00m ignore_deprecation_warning():\n\u001b[0;32m    531\u001b[0m     \u001b[38;5;28msetattr\u001b[39m(\u001b[38;5;28mself\u001b[39m, attrib, val)\n",
      "File \u001b[1;32mc:\\Users\\lipka\\HARD_DRIVE\\Projekte\\Projekte\\Project 146\\b25-model\\venv\\lib\\site-packages\\numpy\\lib\\npyio.py:456\u001b[0m, in \u001b[0;36mload\u001b[1;34m(file, mmap_mode, allow_pickle, fix_imports, encoding, max_header_size)\u001b[0m\n\u001b[0;32m    453\u001b[0m         \u001b[38;5;28;01mreturn\u001b[39;00m \u001b[38;5;28mformat\u001b[39m\u001b[38;5;241m.\u001b[39mopen_memmap(file, mode\u001b[38;5;241m=\u001b[39mmmap_mode,\n\u001b[0;32m    454\u001b[0m                                   max_header_size\u001b[38;5;241m=\u001b[39mmax_header_size)\n\u001b[0;32m    455\u001b[0m     \u001b[38;5;28;01melse\u001b[39;00m:\n\u001b[1;32m--> 456\u001b[0m         \u001b[38;5;28;01mreturn\u001b[39;00m \u001b[38;5;28;43mformat\u001b[39;49m\u001b[38;5;241;43m.\u001b[39;49m\u001b[43mread_array\u001b[49m\u001b[43m(\u001b[49m\u001b[43mfid\u001b[49m\u001b[43m,\u001b[49m\u001b[43m \u001b[49m\u001b[43mallow_pickle\u001b[49m\u001b[38;5;241;43m=\u001b[39;49m\u001b[43mallow_pickle\u001b[49m\u001b[43m,\u001b[49m\n\u001b[0;32m    457\u001b[0m \u001b[43m                                 \u001b[49m\u001b[43mpickle_kwargs\u001b[49m\u001b[38;5;241;43m=\u001b[39;49m\u001b[43mpickle_kwargs\u001b[49m\u001b[43m,\u001b[49m\n\u001b[0;32m    458\u001b[0m \u001b[43m                                 \u001b[49m\u001b[43mmax_header_size\u001b[49m\u001b[38;5;241;43m=\u001b[39;49m\u001b[43mmax_header_size\u001b[49m\u001b[43m)\u001b[49m\n\u001b[0;32m    459\u001b[0m \u001b[38;5;28;01melse\u001b[39;00m:\n\u001b[0;32m    460\u001b[0m     \u001b[38;5;66;03m# Try a pickle\u001b[39;00m\n\u001b[0;32m    461\u001b[0m     \u001b[38;5;28;01mif\u001b[39;00m \u001b[38;5;129;01mnot\u001b[39;00m allow_pickle:\n",
      "File \u001b[1;32mc:\\Users\\lipka\\HARD_DRIVE\\Projekte\\Projekte\\Project 146\\b25-model\\venv\\lib\\site-packages\\numpy\\lib\\format.py:809\u001b[0m, in \u001b[0;36mread_array\u001b[1;34m(fp, allow_pickle, pickle_kwargs, max_header_size)\u001b[0m\n\u001b[0;32m    806\u001b[0m \u001b[38;5;28;01melse\u001b[39;00m:\n\u001b[0;32m    807\u001b[0m     \u001b[38;5;28;01mif\u001b[39;00m isfileobj(fp):\n\u001b[0;32m    808\u001b[0m         \u001b[38;5;66;03m# We can use the fast fromfile() function.\u001b[39;00m\n\u001b[1;32m--> 809\u001b[0m         array \u001b[38;5;241m=\u001b[39m \u001b[43mnumpy\u001b[49m\u001b[38;5;241;43m.\u001b[39;49m\u001b[43mfromfile\u001b[49m\u001b[43m(\u001b[49m\u001b[43mfp\u001b[49m\u001b[43m,\u001b[49m\u001b[43m \u001b[49m\u001b[43mdtype\u001b[49m\u001b[38;5;241;43m=\u001b[39;49m\u001b[43mdtype\u001b[49m\u001b[43m,\u001b[49m\u001b[43m \u001b[49m\u001b[43mcount\u001b[49m\u001b[38;5;241;43m=\u001b[39;49m\u001b[43mcount\u001b[49m\u001b[43m)\u001b[49m\n\u001b[0;32m    810\u001b[0m     \u001b[38;5;28;01melse\u001b[39;00m:\n\u001b[0;32m    811\u001b[0m         \u001b[38;5;66;03m# This is not a real file. We have to read it the\u001b[39;00m\n\u001b[0;32m    812\u001b[0m         \u001b[38;5;66;03m# memory-intensive way.\u001b[39;00m\n\u001b[1;32m   (...)\u001b[0m\n\u001b[0;32m    820\u001b[0m         \u001b[38;5;66;03m# not correctly instantiate zero-width string dtypes; see\u001b[39;00m\n\u001b[0;32m    821\u001b[0m         \u001b[38;5;66;03m# https://github.com/numpy/numpy/pull/6430\u001b[39;00m\n\u001b[0;32m    822\u001b[0m         array \u001b[38;5;241m=\u001b[39m numpy\u001b[38;5;241m.\u001b[39mndarray(count, dtype\u001b[38;5;241m=\u001b[39mdtype)\n",
      "\u001b[1;31mKeyboardInterrupt\u001b[0m: "
     ]
    }
   ],
   "source": [
    "# model = Word2Vec.load(\"../models/b25-sn-v256/b25-sn-v256.model\")\n",
    "model = Word2Vec.load(\"../models/b25-sn-v512/b25-sn-v512-b.model\")"
   ]
  },
  {
   "cell_type": "code",
   "execution_count": 2,
   "metadata": {},
   "outputs": [],
   "source": [
    "from algo_testing import son2vecgl_a\n",
    "\n",
    "with open(\n",
    "    \"../models/b25-sn-v512/b25-sn-v128-f.pkl\", \"rb\"\n",
    ") as file:  # \"rb\" means read in binary mode\n",
    "    model = pickle.load(file)"
   ]
  },
  {
   "cell_type": "code",
   "execution_count": 3,
   "metadata": {},
   "outputs": [],
   "source": [
    "with open(\"../data/tokenized_data/playlist_names/dataset_test.pkl\", \"rb\") as f:\n",
    "    tokenized_playlists = pickle.load(f)"
   ]
  },
  {
   "cell_type": "code",
   "execution_count": 4,
   "metadata": {},
   "outputs": [
    {
     "ename": "AttributeError",
     "evalue": "'Song2GloveA' object has no attribute 'nearest_k1'",
     "output_type": "error",
     "traceback": [
      "\u001b[1;31m---------------------------------------------------------------------------\u001b[0m",
      "\u001b[1;31mAttributeError\u001b[0m                            Traceback (most recent call last)",
      "Cell \u001b[1;32mIn[4], line 1\u001b[0m\n\u001b[1;32m----> 1\u001b[0m \u001b[38;5;28mprint\u001b[39m(\u001b[43mmodel\u001b[49m\u001b[38;5;241;43m.\u001b[39;49m\u001b[43mnearest_k1\u001b[49m(tokenized_playlists[\u001b[38;5;241m0\u001b[39m][\u001b[38;5;241m0\u001b[39m]))\n",
      "\u001b[1;31mAttributeError\u001b[0m: 'Song2GloveA' object has no attribute 'nearest_k1'"
     ]
    }
   ],
   "source": [
    "print(model.nearest_k1(tokenized_playlists[0][0]))"
   ]
  },
  {
   "cell_type": "code",
   "execution_count": 5,
   "metadata": {},
   "outputs": [
    {
     "name": "stdout",
     "output_type": "stream",
     "text": [
      "Total songs: 3430\n",
      "somewhere\n",
      "somewhere\n",
      "somewhere\n",
      "somewhere\n",
      "somewhere\n",
      "somewhere\n",
      "somewhere\n",
      "somewhere\n",
      "somewhere\n",
      "somewhere\n",
      "somewhere\n",
      "somewhere\n",
      "somewhere\n",
      "somewhere\n",
      "somewhere\n",
      "somewhere\n",
      "somewhere\n",
      "somewhere\n",
      "somewhere\n",
      "somewhere\n",
      "somewhere\n",
      "somewhere\n",
      "somewhere\n",
      "somewhere\n",
      "somewhere\n",
      "somewhere\n",
      "somewhere\n",
      "somewhere\n",
      "somewhere\n",
      "somewhere\n",
      "somewhere\n",
      "somewhere\n",
      "somewhere\n",
      "somewhere\n",
      "somewhere\n",
      "somewhere\n",
      "somewhere\n",
      "somewhere\n",
      "somewhere\n",
      "somewhere\n",
      "somewhere\n",
      "somewhere\n",
      "somewhere\n",
      "somewhere\n",
      "somewhere\n",
      "somewhere\n",
      "somewhere\n",
      "somewhere\n",
      "somewhere\n",
      "somewhere\n",
      "somewhere\n",
      "somewhere\n",
      "somewhere\n",
      "somewhere\n",
      "correct: 0\n",
      "Accuracy: 0.0\n",
      "Tested: 3430\n",
      "Wrong: 0\n"
     ]
    }
   ],
   "source": [
    "tested = 0\n",
    "correct = 0\n",
    "\n",
    "test_set = tokenized_playlists[:100]\n",
    "a = 0\n",
    "for playlist in test_set:\n",
    "    a += len(playlist)\n",
    "print(f\"Total songs: {a}\")\n",
    "\n",
    "vgl_a = 0\n",
    "vgl_b = 0\n",
    "\n",
    "for playlist in test_set:\n",
    "    for song in playlist:\n",
    "        vgl_a += 1\n",
    "\n",
    "        # try:\n",
    "\n",
    "            # similar_words = model.wv.most_similar(song, topn=1)\n",
    "            # similar_words = model.nearest(song, k=1)\n",
    "        similar_words = model.nearest(song, k=1)\n",
    "        if similar_words == []:\n",
    "            continue\n",
    "\n",
    "        tested += 1\n",
    "\n",
    "        if any(word[0] in playlist for word in similar_words):\n",
    "            correct += 1\n",
    "        # except:\n",
    "        #     vgl_b += 1\n",
    "        #     continue\n",
    "\n",
    "\n",
    "print(f\"correct: {correct}\")\n",
    "print(f\"Accuracy: {correct/tested}\")\n",
    "print(f\"Tested: {vgl_a}\")\n",
    "print(f\"Wrong: {vgl_b}\")\n",
    "\n",
    "# alpha = 0.8 --> 0.014339622641509434 accuracy\n",
    "# alpha = 0.5 --> 0.014339622641509434 accuracy\n",
    "# alpha = 0.015 --> 0.013584905660377358 accuracy\n",
    "# alpha = 0.015 epoch 15 --> 0.055304740406320545 accuracy\n",
    "# alpha = 0.015 epoch 30 --> 0.056 --> 15 epoch where it konverges\n",
    "# need to change something about the algorithm...\n",
    "# alpha = 0.015 epoch 30 + fuzzy testing (k=5) --> Accuracy: 0.10533333333333333\n",
    "# the algorithm somewhat shows it's going in the right direction but needs an other approche\n",
    "# alpha = 0.015 epoch 15 + trained with the whole dataset --> Accuracy (over 50 playlists): 0.21962264150943397\n",
    "# alpah = 0.025 epoch 15 + whole set --> Accuracy: 0.23622641509433961\n",
    "# alpah = 0.025 epoch 15 + whole set + included L2 Norm as score --> Accuracy: 0.052830188679245285"
   ]
  },
  {
   "cell_type": "markdown",
   "metadata": {},
   "source": [
    "# Second Test with the Combined Artist and Trackname \n",
    "to exclude songs named the same with different vibe\n",
    "\n",
    "#### b25-sn-v50 param: vector_size=50, window=5, min_count=1, sg=0\n",
    "Accuracy: 0.36720959719106605\n",
    "\n",
    "#### b25-sn-v256-a param: vector_size=256, window=5, min_count=1, sg=0\n",
    "Accuracy: 0.36691699990246757\n",
    "\n",
    "#### b25-sn-v256-b param: vector_size=256, window=10, min_count=1, sg=0\n",
    "Accuracy: 0.43333658441431777\n",
    "\n",
    "#### b25-sn-v256-c param: vector_size=256, window=20, min_count=1, sg=0\n",
    "Accuracy: 0.4426996976494684\n",
    "\n",
    "#### b25-sn-v256-d param: vector_size=256, window=20, min_count=1, sg=1, ns_exponent=0.0\n",
    "Accuracy: 0.6513215644201698\n",
    "\n",
    "#### b25-sn-v512-a param: vector_size=512, window=100, min_count=1, sg=0\n",
    "Accuracy: 0.5702721154783965\n",
    "\n",
    "#### b25-sn-v512-b param: vector_size=512, window=100, min_count=1, sg=1, ns_exponent=0.0\n",
    "Accuracy: 0.773919828342924\n",
    "\n",
    "#### b25-sn-v512-d - CBOS param: vector_size=512, epochs=5, learning_rate=0.015*\n",
    "\n",
    "Accuracy: 0.08009367681498829\n",
    "\n",
    "#### b25-sn-v512-e param: vector_size: 512, window=inf, min_count=1, epochs=15, learning_rate=0.025, algo=CBOS-d\n",
    "Accuracy: 0.052830188679245285\n",
    "* Used distance to add a score to the gradient\n",
    "\n",
    "\n",
    "\\* trained with only 3.5% of the training data "
   ]
  },
  {
   "cell_type": "markdown",
   "metadata": {},
   "source": [
    "## Unit tested Results"
   ]
  },
  {
   "cell_type": "markdown",
   "metadata": {},
   "source": [
    "#### b25-sn-v50 param: vector_size=50, window=5, min_count=1, sg=0\n",
    "Accuracy: 0.260704184141227\n",
    "\n",
    "#### b25-sn-v256-a param: vector_size=256, window=5, min_count=1, sg=0\n",
    "Accuracy: 0.28089339705452065\n",
    "\n",
    "#### b25-sn-v256-b param: vector_size=256, window=10, min_count=1, sg=0\n",
    "Accuracy: 0.3198088364381157\n",
    "\n",
    "#### b25-sn-v256-c param: vector_size=256, window=20, min_count=1, sg=0\n",
    "Accuracy: 0.39529893689651807\n",
    "\n",
    "#### b25-sn-v256-d param: vector_size=256, window=20, min_count=1, sg=1, ns_exponent=0.0\n",
    "Accuracy: 0.4845411099190481\n",
    "\n",
    "#### b25-sn-v512-a param: vector_size=512, window=100, min_count=1, sg=0\n",
    "Accuracy: 0.5000487662147665\n",
    "\n",
    "#### b25-sn-v512-b param: vector_size=512, window=100, min_count=1, sg=1, ns_exponent=0.0\n",
    "Accuracy: 0.6720959719106603\n",
    "\n",
    "\n"
   ]
  },
  {
   "cell_type": "markdown",
   "metadata": {},
   "source": [
    "## Old not Accurate Results..."
   ]
  },
  {
   "cell_type": "code",
   "execution_count": null,
   "metadata": {},
   "outputs": [],
   "source": [
    "# first model b25-sn-v256: just the base data with no tweaks of the data and the most basic var of the model\n",
    "# 0.07389817629179331 accuracy over 100 playlists is very low as far as i feel how good the suggested songs are from the model\n",
    "# don't know if the number will rise with more playlist but the code needs more optimizing\n",
    "\n",
    "# second model b25-sn-v256-b: training it with a bigger dataset - base is the normal dataset but extended with shuffeld playlists on top\n",
    "# 0.2773556231003039 accuracy over 100 playlist - thats a solid score if you think about every 1/4 songs that is suggested is correct\n",
    "# decent result for a second draft\n",
    "\n",
    "# third model b25-sn-v256-c: based on model the data of b25-sn-v256-b but the context window is now 20 not 5\n",
    "# 0.48822188449848025 accuracy over 100 playlists thats a good score for songs suggestion\n",
    "\n",
    "# b25-sn-v256-d: reduced training data to 80% of the set to have a better testing without the chance of overfitting\n",
    "# 0.21337249481686246 accuracy over 100 playlists - was to be anticipated because of reducing the training set and the split of train and test data\n",
    "# still need to test all models against a way bigger chunck of the test set\n",
    "# before splitting test and train the data should be shuffeld to remove bias of the data to a specific section\n",
    "\n",
    "# tested b25-sn-v256-c again but with only the first pick beeing good or bad\n",
    "# 0.37232204561161025 is still a solide score for a normal test without mostly any biase\n",
    "\n",
    "# b25-sn-v256-f bigger vector of 512 and a bigger window of 100 while training\n",
    "#  accuracy\n",
    "\n",
    "# comments about the testing\n",
    "# still need to test them against way more playlists not only 100\n",
    "# also need to cut between training and test data to prevent overfitting the model to the values i just want to here\n",
    "# it would be interesting what accuracy is possible to reach with this approach\n",
    "# could also extend the context window\n",
    "# also some basic data exploration needs to be done"
   ]
  },
  {
   "cell_type": "code",
   "execution_count": null,
   "metadata": {},
   "outputs": [],
   "source": [
    "# just some manuel testing of the model\n",
    "\n",
    "song = \"good kid\".lower()\n",
    "\n",
    "matches = [key for key in model.wv.key_to_index.keys() if song in str(key).lower()]\n",
    "print(matches)"
   ]
  }
 ],
 "metadata": {
  "kernelspec": {
   "display_name": "venv",
   "language": "python",
   "name": "python3"
  },
  "language_info": {
   "codemirror_mode": {
    "name": "ipython",
    "version": 3
   },
   "file_extension": ".py",
   "mimetype": "text/x-python",
   "name": "python",
   "nbconvert_exporter": "python",
   "pygments_lexer": "ipython3",
   "version": "3.10.11"
  }
 },
 "nbformat": 4,
 "nbformat_minor": 2
}
