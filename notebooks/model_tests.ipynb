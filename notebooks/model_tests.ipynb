{
 "cells": [
  {
   "cell_type": "code",
   "execution_count": 3,
   "metadata": {},
   "outputs": [],
   "source": [
    "import gensim\n",
    "from gensim.models import Word2Vec\n",
    "from nltk.tokenize import word_tokenize\n",
    "import nltk\n",
    "import pandas as pd"
   ]
  },
  {
   "cell_type": "code",
   "execution_count": 4,
   "metadata": {},
   "outputs": [],
   "source": [
    "# model = Word2Vec.load(\"../models/b25-sn-v256/b25-sn-v256.model\")\n",
    "model = Word2Vec.load(\"../models/b25-sn-v256/b25-sn-v256-c.model\")"
   ]
  },
  {
   "cell_type": "code",
   "execution_count": 5,
   "metadata": {},
   "outputs": [],
   "source": [
    "import pickle\n",
    "\n",
    "with open('../data/tokenized_data/playlist_names/test_set.pkl', 'rb') as f:\n",
    "    tokenized_playlists = pickle.load(f)"
   ]
  },
  {
   "cell_type": "code",
   "execution_count": 6,
   "metadata": {},
   "outputs": [
    {
     "name": "stdout",
     "output_type": "stream",
     "text": [
      "Accuracy: 0.37232204561161025\n"
     ]
    }
   ],
   "source": [
    "tested = 0\n",
    "correct = 0\n",
    "\n",
    "test_set = tokenized_playlists[0:100]\n",
    "\n",
    "for playlist in test_set:\n",
    "    for song in playlist:\n",
    "        try:\n",
    "            tested += 1\n",
    "            similar_words = model.wv.most_similar(song, topn=1)\n",
    "            \n",
    "            if any(word[0] in playlist for word in similar_words):\n",
    "                correct += 1\n",
    "        except:\n",
    "            continue\n",
    "\n",
    "\n",
    "print(f\"Accuracy: {correct/tested}\")"
   ]
  },
  {
   "cell_type": "code",
   "execution_count": null,
   "metadata": {},
   "outputs": [],
   "source": [
    "# first model b25-sn-v256: just the base data with no tweaks of the data and the most basic var of the model\n",
    "# 0.07389817629179331 accuracy over 100 playlists is very low as far as i feel how good the suggested songs are from the model \n",
    "# don't know if the number will rise with more playlist but the code needs more optimizing \n",
    "\n",
    "# second model b25-sn-v256-b: training it with a bigger dataset - base is the normal dataset but extended with shuffeld playlists on top \n",
    "# 0.2773556231003039 accuracy over 100 playlist - thats a solid score if you think about every 1/4 songs that is suggested is correct\n",
    "# decent result for a second draft\n",
    "\n",
    "# third model b25-sn-v256-c: based on model the data of b25-sn-v256-b but the context window is now 20 not 5 \n",
    "# 0.48822188449848025 accuracy over 100 playlists thats a good score for songs suggestion\n",
    "\n",
    "# b25-sn-v256-d: reduced training data to 80% of the set to have a better testing without the chance of overfitting\n",
    "# 0.21337249481686246 accuracy over 100 playlists - was to be anticipated because of reducing the training set and the split of train and test data\n",
    "# still need to test all models against a way bigger chunck of the test set \n",
    "# before splitting test and train the data should be shuffeld to remove bias of the data to a specific section \n",
    "\n",
    "# tested b25-sn-v256-c again but with only the first pick beeing good or bad\n",
    "# 0.37232204561161025 is still a solide score for a normal test without mostly any biase\n",
    "\n",
    "# comments about the testing \n",
    "# still need to test them against way more playlists not only 100\n",
    "# also need to cut between training and test data to prevent overfitting the model to the values i just want to here\n",
    "# it would be interesting what accuracy is possible to reach with this approach\n",
    "# could also extend the context window \n",
    "# also some basic data exploration needs to be done"
   ]
  }
 ],
 "metadata": {
  "kernelspec": {
   "display_name": "venv",
   "language": "python",
   "name": "python3"
  },
  "language_info": {
   "codemirror_mode": {
    "name": "ipython",
    "version": 3
   },
   "file_extension": ".py",
   "mimetype": "text/x-python",
   "name": "python",
   "nbconvert_exporter": "python",
   "pygments_lexer": "ipython3",
   "version": "3.10.11"
  }
 },
 "nbformat": 4,
 "nbformat_minor": 2
}
