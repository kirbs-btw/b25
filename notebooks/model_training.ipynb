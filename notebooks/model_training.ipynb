{
 "cells": [
  {
   "cell_type": "markdown",
   "metadata": {},
   "source": [
    "# B25 - Training"
   ]
  },
  {
   "cell_type": "code",
   "execution_count": 1,
   "metadata": {},
   "outputs": [],
   "source": [
    "import gensim\n",
    "from gensim.models import Word2Vec\n",
    "from nltk.tokenize import word_tokenize\n",
    "import nltk\n",
    "import pandas as pd\n",
    "import pickle\n",
    "import numpy as np"
   ]
  },
  {
   "cell_type": "code",
   "execution_count": 2,
   "metadata": {},
   "outputs": [],
   "source": [
    "with open('../data/tokenized_data/playlist_names/dataset_train.pkl', 'rb') as f:\n",
    "    train_dataset = pickle.load(f)"
   ]
  },
  {
   "cell_type": "code",
   "execution_count": null,
   "metadata": {},
   "outputs": [],
   "source": [
    "word2vec_model = Word2Vec(sentences=train_dataset, workers=10, vector_size=50, window=5, min_count=1, sg=0)\n",
    "word2vec_model.save(\"../models/b25-sn-v50/b25-sn-v50.model\")"
   ]
  },
  {
   "cell_type": "code",
   "execution_count": null,
   "metadata": {},
   "outputs": [],
   "source": [
    "word2vec_model = Word2Vec(sentences=train_dataset, workers=10, vector_size=256, window=5, min_count=1, sg=0)\n",
    "word2vec_model.save(\"../models/b25-sn-v256/b25-sn-v256-a.model\")"
   ]
  },
  {
   "cell_type": "code",
   "execution_count": null,
   "metadata": {},
   "outputs": [],
   "source": [
    "word2vec_model = Word2Vec(sentences=train_dataset, workers=10, vector_size=256, window=10, min_count=1, sg=0)\n",
    "word2vec_model.save(\"../models/b25-sn-v256/b25-sn-v256-b.model\")"
   ]
  },
  {
   "cell_type": "code",
   "execution_count": null,
   "metadata": {},
   "outputs": [],
   "source": [
    "word2vec_model = Word2Vec(sentences=train_dataset, workers=10, vector_size=256, window=20, min_count=1, sg=0)\n",
    "word2vec_model.save(\"../models/b25-sn-v256/b25-sn-v256-c.model\")"
   ]
  },
  {
   "cell_type": "code",
   "execution_count": null,
   "metadata": {},
   "outputs": [],
   "source": [
    "word2vec_model = Word2Vec(sentences=train_dataset, workers=10, vector_size=256, window=20, min_count=1, sg=1, ns_exponent=0.0)\n",
    "word2vec_model.save(\"../models/b25-sn-v256/b25-sn-v256-d.model\")"
   ]
  },
  {
   "cell_type": "code",
   "execution_count": null,
   "metadata": {},
   "outputs": [],
   "source": [
    "word2vec_model = Word2Vec(sentences=train_dataset, workers=10, vector_size=512, window=100, min_count=1, sg=0)\n",
    "word2vec_model.save(\"../models/b25-sn-v512/b25-sn-v512-a.model\")"
   ]
  },
  {
   "cell_type": "code",
   "execution_count": null,
   "metadata": {},
   "outputs": [],
   "source": [
    "word2vec_model = Word2Vec(sentences=train_dataset, workers=10, vector_size=512, window=100, min_count=1, sg=1, ns_exponent=0.0)\n",
    "word2vec_model.save(\"../models/b25-sn-v512/b25-sn-v512-b.model\")"
   ]
  },
  {
   "cell_type": "code",
   "execution_count": null,
   "metadata": {},
   "outputs": [
    {
     "name": "stdout",
     "output_type": "stream",
     "text": [
      "567013\n",
      "Epoche: 0\n",
      "Error: nan\n",
      "Type of variable: <class 'numpy.float64'>\n",
      "Value of variable: nan\n",
      "Attributes and methods available in variable: ['T', '__abs__', '__add__', '__and__', '__array__', '__array_interface__', '__array_priority__', '__array_struct__', '__array_wrap__', '__bool__', '__ceil__', '__class__', '__class_getitem__', '__copy__', '__deepcopy__', '__delattr__', '__dir__', '__divmod__', '__doc__', '__eq__', '__float__', '__floor__', '__floordiv__', '__format__', '__ge__', '__getattribute__', '__getformat__', '__getitem__', '__getnewargs__', '__gt__', '__hash__', '__init__', '__init_subclass__', '__int__', '__invert__', '__le__', '__lshift__', '__lt__', '__mod__', '__mul__', '__ne__', '__neg__', '__new__', '__or__', '__pos__', '__pow__', '__radd__', '__rand__', '__rdivmod__', '__reduce__', '__reduce_ex__', '__repr__', '__rfloordiv__', '__rlshift__', '__rmod__', '__rmul__', '__ror__', '__round__', '__rpow__', '__rrshift__', '__rshift__', '__rsub__', '__rtruediv__', '__rxor__', '__setattr__', '__setformat__', '__setstate__', '__sizeof__', '__str__', '__sub__', '__subclasshook__', '__truediv__', '__trunc__', '__xor__', 'all', 'any', 'argmax', 'argmin', 'argsort', 'as_integer_ratio', 'astype', 'base', 'byteswap', 'choose', 'clip', 'compress', 'conj', 'conjugate', 'copy', 'cumprod', 'cumsum', 'data', 'diagonal', 'dtype', 'dump', 'dumps', 'fill', 'flags', 'flat', 'flatten', 'fromhex', 'getfield', 'hex', 'imag', 'is_integer', 'item', 'itemset', 'itemsize', 'max', 'mean', 'min', 'nbytes', 'ndim', 'newbyteorder', 'nonzero', 'prod', 'ptp', 'put', 'ravel', 'real', 'repeat', 'reshape', 'resize', 'round', 'searchsorted', 'setfield', 'setflags', 'shape', 'size', 'sort', 'squeeze', 'std', 'strides', 'sum', 'swapaxes', 'take', 'tobytes', 'tofile', 'tolist', 'tostring', 'trace', 'transpose', 'var', 'view']\n",
      "\n",
      "Detailed traceback:\n",
      "Error: nan\n",
      "Type of variable: <class 'numpy.float64'>\n",
      "Value of variable: nan\n",
      "Attributes and methods available in variable: ['T', '__abs__', '__add__', '__and__', '__array__', '__array_interface__', '__array_priority__', '__array_struct__', '__array_wrap__', '__bool__', '__ceil__', '__class__', '__class_getitem__', '__copy__', '__deepcopy__', '__delattr__', '__dir__', '__divmod__', '__doc__', '__eq__', '__float__', '__floor__', '__floordiv__', '__format__', '__ge__', '__getattribute__', '__getformat__', '__getitem__', '__getnewargs__', '__gt__', '__hash__', '__init__', '__init_subclass__', '__int__', '__invert__', '__le__', '__lshift__', '__lt__', '__mod__', '__mul__', '__ne__', '__neg__', '__new__', '__or__', '__pos__', '__pow__', '__radd__', '__rand__', '__rdivmod__', '__reduce__', '__reduce_ex__', '__repr__', '__rfloordiv__', '__rlshift__', '__rmod__', '__rmul__', '__ror__', '__round__', '__rpow__', '__rrshift__', '__rshift__', '__rsub__', '__rtruediv__', '__rxor__', '__setattr__', '__setformat__', '__setstate__', '__sizeof__', '__str__', '__sub__', '__subclasshook__', '__truediv__', '__trunc__', '__xor__', 'all', 'any', 'argmax', 'argmin', 'argsort', 'as_integer_ratio', 'astype', 'base', 'byteswap', 'choose', 'clip', 'compress', 'conj', 'conjugate', 'copy', 'cumprod', 'cumsum', 'data', 'diagonal', 'dtype', 'dump', 'dumps', 'fill', 'flags', 'flat', 'flatten', 'fromhex', 'getfield', 'hex', 'imag', 'is_integer', 'item', 'itemset', 'itemsize', 'max', 'mean', 'min', 'nbytes', 'ndim', 'newbyteorder', 'nonzero', 'prod', 'ptp', 'put', 'ravel', 'real', 'repeat', 'reshape', 'resize', 'round', 'searchsorted', 'setfield', 'setflags', 'shape', 'size', 'sort', 'squeeze', 'std', 'strides', 'sum', 'swapaxes', 'take', 'tobytes', 'tofile', 'tolist', 'tostring', 'trace', 'transpose', 'var', 'view']\n",
      "\n",
      "Detailed traceback:\n",
      "Error: nan\n",
      "Type of variable: <class 'numpy.float64'>\n",
      "Value of variable: nan\n",
      "Attributes and methods available in variable: ['T', '__abs__', '__add__', '__and__', '__array__', '__array_interface__', '__array_priority__', '__array_struct__', '__array_wrap__', '__bool__', '__ceil__', '__class__', '__class_getitem__', '__copy__', '__deepcopy__', '__delattr__', '__dir__', '__divmod__', '__doc__', '__eq__', '__float__', '__floor__', '__floordiv__', '__format__', '__ge__', '__getattribute__', '__getformat__', '__getitem__', '__getnewargs__', '__gt__', '__hash__', '__init__', '__init_subclass__', '__int__', '__invert__', '__le__', '__lshift__', '__lt__', '__mod__', '__mul__', '__ne__', '__neg__', '__new__', '__or__', '__pos__', '__pow__', '__radd__', '__rand__', '__rdivmod__', '__reduce__', '__reduce_ex__', '__repr__', '__rfloordiv__', '__rlshift__', '__rmod__', '__rmul__', '__ror__', '__round__', '__rpow__', '__rrshift__', '__rshift__', '__rsub__', '__rtruediv__', '__rxor__', '__setattr__', '__setformat__', '__setstate__', '__sizeof__', '__str__', '__sub__', '__subclasshook__', '__truediv__', '__trunc__', '__xor__', 'all', 'any', 'argmax', 'argmin', 'argsort', 'as_integer_ratio', 'astype', 'base', 'byteswap', 'choose', 'clip', 'compress', 'conj', 'conjugate', 'copy', 'cumprod', 'cumsum', 'data', 'diagonal', 'dtype', 'dump', 'dumps', 'fill', 'flags', 'flat', 'flatten', 'fromhex', 'getfield', 'hex', 'imag', 'is_integer', 'item', 'itemset', 'itemsize', 'max', 'mean', 'min', 'nbytes', 'ndim', 'newbyteorder', 'nonzero', 'prod', 'ptp', 'put', 'ravel', 'real', 'repeat', 'reshape', 'resize', 'round', 'searchsorted', 'setfield', 'setflags', 'shape', 'size', 'sort', 'squeeze', 'std', 'strides', 'sum', 'swapaxes', 'take', 'tobytes', 'tofile', 'tolist', 'tostring', 'trace', 'transpose', 'var', 'view']\n",
      "\n",
      "Detailed traceback:\n",
      "Error: nan\n",
      "Type of variable: <class 'numpy.float64'>\n",
      "Value of variable: nan\n",
      "Attributes and methods available in variable: ['T', '__abs__', '__add__', '__and__', '__array__', '__array_interface__', '__array_priority__', '__array_struct__', '__array_wrap__', '__bool__', '__ceil__', '__class__', '__class_getitem__', '__copy__', '__deepcopy__', '__delattr__', '__dir__', '__divmod__', '__doc__', '__eq__', '__float__', '__floor__', '__floordiv__', '__format__', '__ge__', '__getattribute__', '__getformat__', '__getitem__', '__getnewargs__', '__gt__', '__hash__', '__init__', '__init_subclass__', '__int__', '__invert__', '__le__', '__lshift__', '__lt__', '__mod__', '__mul__', '__ne__', '__neg__', '__new__', '__or__', '__pos__', '__pow__', '__radd__', '__rand__', '__rdivmod__', '__reduce__', '__reduce_ex__', '__repr__', '__rfloordiv__', '__rlshift__', '__rmod__', '__rmul__', '__ror__', '__round__', '__rpow__', '__rrshift__', '__rshift__', '__rsub__', '__rtruediv__', '__rxor__', '__setattr__', '__setformat__', '__setstate__', '__sizeof__', '__str__', '__sub__', '__subclasshook__', '__truediv__', '__trunc__', '__xor__', 'all', 'any', 'argmax', 'argmin', 'argsort', 'as_integer_ratio', 'astype', 'base', 'byteswap', 'choose', 'clip', 'compress', 'conj', 'conjugate', 'copy', 'cumprod', 'cumsum', 'data', 'diagonal', 'dtype', 'dump', 'dumps', 'fill', 'flags', 'flat', 'flatten', 'fromhex', 'getfield', 'hex', 'imag', 'is_integer', 'item', 'itemset', 'itemsize', 'max', 'mean', 'min', 'nbytes', 'ndim', 'newbyteorder', 'nonzero', 'prod', 'ptp', 'put', 'ravel', 'real', 'repeat', 'reshape', 'resize', 'round', 'searchsorted', 'setfield', 'setflags', 'shape', 'size', 'sort', 'squeeze', 'std', 'strides', 'sum', 'swapaxes', 'take', 'tobytes', 'tofile', 'tolist', 'tostring', 'trace', 'transpose', 'var', 'view']\n",
      "\n",
      "Detailed traceback:\n",
      "Error: nan\n",
      "Type of variable: <class 'numpy.float64'>\n",
      "Value of variable: nan\n",
      "Attributes and methods available in variable: ['T', '__abs__', '__add__', '__and__', '__array__', '__array_interface__', '__array_priority__', '__array_struct__', '__array_wrap__', '__bool__', '__ceil__', '__class__', '__class_getitem__', '__copy__', '__deepcopy__', '__delattr__', '__dir__', '__divmod__', '__doc__', '__eq__', '__float__', '__floor__', '__floordiv__', '__format__', '__ge__', '__getattribute__', '__getformat__', '__getitem__', '__getnewargs__', '__gt__', '__hash__', '__init__', '__init_subclass__', '__int__', '__invert__', '__le__', '__lshift__', '__lt__', '__mod__', '__mul__', '__ne__', '__neg__', '__new__', '__or__', '__pos__', '__pow__', '__radd__', '__rand__', '__rdivmod__', '__reduce__', '__reduce_ex__', '__repr__', '__rfloordiv__', '__rlshift__', '__rmod__', '__rmul__', '__ror__', '__round__', '__rpow__', '__rrshift__', '__rshift__', '__rsub__', '__rtruediv__', '__rxor__', '__setattr__', '__setformat__', '__setstate__', '__sizeof__', '__str__', '__sub__', '__subclasshook__', '__truediv__', '__trunc__', '__xor__', 'all', 'any', 'argmax', 'argmin', 'argsort', 'as_integer_ratio', 'astype', 'base', 'byteswap', 'choose', 'clip', 'compress', 'conj', 'conjugate', 'copy', 'cumprod', 'cumsum', 'data', 'diagonal', 'dtype', 'dump', 'dumps', 'fill', 'flags', 'flat', 'flatten', 'fromhex', 'getfield', 'hex', 'imag', 'is_integer', 'item', 'itemset', 'itemsize', 'max', 'mean', 'min', 'nbytes', 'ndim', 'newbyteorder', 'nonzero', 'prod', 'ptp', 'put', 'ravel', 'real', 'repeat', 'reshape', 'resize', 'round', 'searchsorted', 'setfield', 'setflags', 'shape', 'size', 'sort', 'squeeze', 'std', 'strides', 'sum', 'swapaxes', 'take', 'tobytes', 'tofile', 'tolist', 'tostring', 'trace', 'transpose', 'var', 'view']\n",
      "\n",
      "Detailed traceback:\n",
      "Error: nan\n",
      "Type of variable: <class 'numpy.float64'>\n",
      "Value of variable: nan\n",
      "Attributes and methods available in variable: ['T', '__abs__', '__add__', '__and__', '__array__', '__array_interface__', '__array_priority__', '__array_struct__', '__array_wrap__', '__bool__', '__ceil__', '__class__', '__class_getitem__', '__copy__', '__deepcopy__', '__delattr__', '__dir__', '__divmod__', '__doc__', '__eq__', '__float__', '__floor__', '__floordiv__', '__format__', '__ge__', '__getattribute__', '__getformat__', '__getitem__', '__getnewargs__', '__gt__', '__hash__', '__init__', '__init_subclass__', '__int__', '__invert__', '__le__', '__lshift__', '__lt__', '__mod__', '__mul__', '__ne__', '__neg__', '__new__', '__or__', '__pos__', '__pow__', '__radd__', '__rand__', '__rdivmod__', '__reduce__', '__reduce_ex__', '__repr__', '__rfloordiv__', '__rlshift__', '__rmod__', '__rmul__', '__ror__', '__round__', '__rpow__', '__rrshift__', '__rshift__', '__rsub__', '__rtruediv__', '__rxor__', '__setattr__', '__setformat__', '__setstate__', '__sizeof__', '__str__', '__sub__', '__subclasshook__', '__truediv__', '__trunc__', '__xor__', 'all', 'any', 'argmax', 'argmin', 'argsort', 'as_integer_ratio', 'astype', 'base', 'byteswap', 'choose', 'clip', 'compress', 'conj', 'conjugate', 'copy', 'cumprod', 'cumsum', 'data', 'diagonal', 'dtype', 'dump', 'dumps', 'fill', 'flags', 'flat', 'flatten', 'fromhex', 'getfield', 'hex', 'imag', 'is_integer', 'item', 'itemset', 'itemsize', 'max', 'mean', 'min', 'nbytes', 'ndim', 'newbyteorder', 'nonzero', 'prod', 'ptp', 'put', 'ravel', 'real', 'repeat', 'reshape', 'resize', 'round', 'searchsorted', 'setfield', 'setflags', 'shape', 'size', 'sort', 'squeeze', 'std', 'strides', 'sum', 'swapaxes', 'take', 'tobytes', 'tofile', 'tolist', 'tostring', 'trace', 'transpose', 'var', 'view']\n",
      "\n",
      "Detailed traceback:\n"
     ]
    },
    {
     "name": "stderr",
     "output_type": "stream",
     "text": [
      "Traceback (most recent call last):\n",
      "  File \"c:\\Users\\lipka\\HARD_DRIVE\\Projekte\\Projekte\\Project 146\\b25-model\\song2vec\\song2vec\\submodule\\song2vec.py\", line 55, in __epoch\n",
      "    context_vector = np.add(context_vector, self.vector_map[context_data_point])\n",
      "KeyError: nan\n",
      "Traceback (most recent call last):\n",
      "  File \"c:\\Users\\lipka\\HARD_DRIVE\\Projekte\\Projekte\\Project 146\\b25-model\\song2vec\\song2vec\\submodule\\song2vec.py\", line 55, in __epoch\n",
      "    context_vector = np.add(context_vector, self.vector_map[context_data_point])\n",
      "KeyError: nan\n",
      "Traceback (most recent call last):\n",
      "  File \"c:\\Users\\lipka\\HARD_DRIVE\\Projekte\\Projekte\\Project 146\\b25-model\\song2vec\\song2vec\\submodule\\song2vec.py\", line 55, in __epoch\n",
      "    context_vector = np.add(context_vector, self.vector_map[context_data_point])\n",
      "KeyError: nan\n",
      "Traceback (most recent call last):\n",
      "  File \"c:\\Users\\lipka\\HARD_DRIVE\\Projekte\\Projekte\\Project 146\\b25-model\\song2vec\\song2vec\\submodule\\song2vec.py\", line 55, in __epoch\n",
      "    context_vector = np.add(context_vector, self.vector_map[context_data_point])\n",
      "KeyError: nan\n",
      "Traceback (most recent call last):\n",
      "  File \"c:\\Users\\lipka\\HARD_DRIVE\\Projekte\\Projekte\\Project 146\\b25-model\\song2vec\\song2vec\\submodule\\song2vec.py\", line 55, in __epoch\n",
      "    context_vector = np.add(context_vector, self.vector_map[context_data_point])\n",
      "KeyError: nan\n",
      "Traceback (most recent call last):\n",
      "  File \"c:\\Users\\lipka\\HARD_DRIVE\\Projekte\\Projekte\\Project 146\\b25-model\\song2vec\\song2vec\\submodule\\song2vec.py\", line 55, in __epoch\n",
      "    context_vector = np.add(context_vector, self.vector_map[context_data_point])\n",
      "KeyError: nan\n"
     ]
    },
    {
     "name": "stdout",
     "output_type": "stream",
     "text": [
      "epochwrapup\n",
      "mainskips 0\n",
      "sub skips 127473\n",
      "total sub 71402320\n",
      "Epoche: 1\n",
      "Error: nan\n",
      "Type of variable: <class 'numpy.float64'>\n",
      "Value of variable: nan\n",
      "Attributes and methods available in variable: ['T', '__abs__', '__add__', '__and__', '__array__', '__array_interface__', '__array_priority__', '__array_struct__', '__array_wrap__', '__bool__', '__ceil__', '__class__', '__class_getitem__', '__copy__', '__deepcopy__', '__delattr__', '__dir__', '__divmod__', '__doc__', '__eq__', '__float__', '__floor__', '__floordiv__', '__format__', '__ge__', '__getattribute__', '__getformat__', '__getitem__', '__getnewargs__', '__gt__', '__hash__', '__init__', '__init_subclass__', '__int__', '__invert__', '__le__', '__lshift__', '__lt__', '__mod__', '__mul__', '__ne__', '__neg__', '__new__', '__or__', '__pos__', '__pow__', '__radd__', '__rand__', '__rdivmod__', '__reduce__', '__reduce_ex__', '__repr__', '__rfloordiv__', '__rlshift__', '__rmod__', '__rmul__', '__ror__', '__round__', '__rpow__', '__rrshift__', '__rshift__', '__rsub__', '__rtruediv__', '__rxor__', '__setattr__', '__setformat__', '__setstate__', '__sizeof__', '__str__', '__sub__', '__subclasshook__', '__truediv__', '__trunc__', '__xor__', 'all', 'any', 'argmax', 'argmin', 'argsort', 'as_integer_ratio', 'astype', 'base', 'byteswap', 'choose', 'clip', 'compress', 'conj', 'conjugate', 'copy', 'cumprod', 'cumsum', 'data', 'diagonal', 'dtype', 'dump', 'dumps', 'fill', 'flags', 'flat', 'flatten', 'fromhex', 'getfield', 'hex', 'imag', 'is_integer', 'item', 'itemset', 'itemsize', 'max', 'mean', 'min', 'nbytes', 'ndim', 'newbyteorder', 'nonzero', 'prod', 'ptp', 'put', 'ravel', 'real', 'repeat', 'reshape', 'resize', 'round', 'searchsorted', 'setfield', 'setflags', 'shape', 'size', 'sort', 'squeeze', 'std', 'strides', 'sum', 'swapaxes', 'take', 'tobytes', 'tofile', 'tolist', 'tostring', 'trace', 'transpose', 'var', 'view']\n",
      "\n",
      "Detailed traceback:\n",
      "Error: nan\n",
      "Type of variable: <class 'numpy.float64'>\n",
      "Value of variable: nan\n",
      "Attributes and methods available in variable: ['T', '__abs__', '__add__', '__and__', '__array__', '__array_interface__', '__array_priority__', '__array_struct__', '__array_wrap__', '__bool__', '__ceil__', '__class__', '__class_getitem__', '__copy__', '__deepcopy__', '__delattr__', '__dir__', '__divmod__', '__doc__', '__eq__', '__float__', '__floor__', '__floordiv__', '__format__', '__ge__', '__getattribute__', '__getformat__', '__getitem__', '__getnewargs__', '__gt__', '__hash__', '__init__', '__init_subclass__', '__int__', '__invert__', '__le__', '__lshift__', '__lt__', '__mod__', '__mul__', '__ne__', '__neg__', '__new__', '__or__', '__pos__', '__pow__', '__radd__', '__rand__', '__rdivmod__', '__reduce__', '__reduce_ex__', '__repr__', '__rfloordiv__', '__rlshift__', '__rmod__', '__rmul__', '__ror__', '__round__', '__rpow__', '__rrshift__', '__rshift__', '__rsub__', '__rtruediv__', '__rxor__', '__setattr__', '__setformat__', '__setstate__', '__sizeof__', '__str__', '__sub__', '__subclasshook__', '__truediv__', '__trunc__', '__xor__', 'all', 'any', 'argmax', 'argmin', 'argsort', 'as_integer_ratio', 'astype', 'base', 'byteswap', 'choose', 'clip', 'compress', 'conj', 'conjugate', 'copy', 'cumprod', 'cumsum', 'data', 'diagonal', 'dtype', 'dump', 'dumps', 'fill', 'flags', 'flat', 'flatten', 'fromhex', 'getfield', 'hex', 'imag', 'is_integer', 'item', 'itemset', 'itemsize', 'max', 'mean', 'min', 'nbytes', 'ndim', 'newbyteorder', 'nonzero', 'prod', 'ptp', 'put', 'ravel', 'real', 'repeat', 'reshape', 'resize', 'round', 'searchsorted', 'setfield', 'setflags', 'shape', 'size', 'sort', 'squeeze', 'std', 'strides', 'sum', 'swapaxes', 'take', 'tobytes', 'tofile', 'tolist', 'tostring', 'trace', 'transpose', 'var', 'view']\n",
      "\n",
      "Detailed traceback:\n",
      "Error: nan\n",
      "Type of variable: <class 'numpy.float64'>\n",
      "Value of variable: nan\n",
      "Attributes and methods available in variable: ['T', '__abs__', '__add__', '__and__', '__array__', '__array_interface__', '__array_priority__', '__array_struct__', '__array_wrap__', '__bool__', '__ceil__', '__class__', '__class_getitem__', '__copy__', '__deepcopy__', '__delattr__', '__dir__', '__divmod__', '__doc__', '__eq__', '__float__', '__floor__', '__floordiv__', '__format__', '__ge__', '__getattribute__', '__getformat__', '__getitem__', '__getnewargs__', '__gt__', '__hash__', '__init__', '__init_subclass__', '__int__', '__invert__', '__le__', '__lshift__', '__lt__', '__mod__', '__mul__', '__ne__', '__neg__', '__new__', '__or__', '__pos__', '__pow__', '__radd__', '__rand__', '__rdivmod__', '__reduce__', '__reduce_ex__', '__repr__', '__rfloordiv__', '__rlshift__', '__rmod__', '__rmul__', '__ror__', '__round__', '__rpow__', '__rrshift__', '__rshift__', '__rsub__', '__rtruediv__', '__rxor__', '__setattr__', '__setformat__', '__setstate__', '__sizeof__', '__str__', '__sub__', '__subclasshook__', '__truediv__', '__trunc__', '__xor__', 'all', 'any', 'argmax', 'argmin', 'argsort', 'as_integer_ratio', 'astype', 'base', 'byteswap', 'choose', 'clip', 'compress', 'conj', 'conjugate', 'copy', 'cumprod', 'cumsum', 'data', 'diagonal', 'dtype', 'dump', 'dumps', 'fill', 'flags', 'flat', 'flatten', 'fromhex', 'getfield', 'hex', 'imag', 'is_integer', 'item', 'itemset', 'itemsize', 'max', 'mean', 'min', 'nbytes', 'ndim', 'newbyteorder', 'nonzero', 'prod', 'ptp', 'put', 'ravel', 'real', 'repeat', 'reshape', 'resize', 'round', 'searchsorted', 'setfield', 'setflags', 'shape', 'size', 'sort', 'squeeze', 'std', 'strides', 'sum', 'swapaxes', 'take', 'tobytes', 'tofile', 'tolist', 'tostring', 'trace', 'transpose', 'var', 'view']\n",
      "\n",
      "Detailed traceback:\n",
      "Error: nan\n",
      "Type of variable: <class 'numpy.float64'>\n",
      "Value of variable: nan\n",
      "Attributes and methods available in variable: ['T', '__abs__', '__add__', '__and__', '__array__', '__array_interface__', '__array_priority__', '__array_struct__', '__array_wrap__', '__bool__', '__ceil__', '__class__', '__class_getitem__', '__copy__', '__deepcopy__', '__delattr__', '__dir__', '__divmod__', '__doc__', '__eq__', '__float__', '__floor__', '__floordiv__', '__format__', '__ge__', '__getattribute__', '__getformat__', '__getitem__', '__getnewargs__', '__gt__', '__hash__', '__init__', '__init_subclass__', '__int__', '__invert__', '__le__', '__lshift__', '__lt__', '__mod__', '__mul__', '__ne__', '__neg__', '__new__', '__or__', '__pos__', '__pow__', '__radd__', '__rand__', '__rdivmod__', '__reduce__', '__reduce_ex__', '__repr__', '__rfloordiv__', '__rlshift__', '__rmod__', '__rmul__', '__ror__', '__round__', '__rpow__', '__rrshift__', '__rshift__', '__rsub__', '__rtruediv__', '__rxor__', '__setattr__', '__setformat__', '__setstate__', '__sizeof__', '__str__', '__sub__', '__subclasshook__', '__truediv__', '__trunc__', '__xor__', 'all', 'any', 'argmax', 'argmin', 'argsort', 'as_integer_ratio', 'astype', 'base', 'byteswap', 'choose', 'clip', 'compress', 'conj', 'conjugate', 'copy', 'cumprod', 'cumsum', 'data', 'diagonal', 'dtype', 'dump', 'dumps', 'fill', 'flags', 'flat', 'flatten', 'fromhex', 'getfield', 'hex', 'imag', 'is_integer', 'item', 'itemset', 'itemsize', 'max', 'mean', 'min', 'nbytes', 'ndim', 'newbyteorder', 'nonzero', 'prod', 'ptp', 'put', 'ravel', 'real', 'repeat', 'reshape', 'resize', 'round', 'searchsorted', 'setfield', 'setflags', 'shape', 'size', 'sort', 'squeeze', 'std', 'strides', 'sum', 'swapaxes', 'take', 'tobytes', 'tofile', 'tolist', 'tostring', 'trace', 'transpose', 'var', 'view']\n",
      "\n",
      "Detailed traceback:\n",
      "Error: nan\n",
      "Type of variable: <class 'numpy.float64'>\n",
      "Value of variable: nan\n",
      "Attributes and methods available in variable: ['T', '__abs__', '__add__', '__and__', '__array__', '__array_interface__', '__array_priority__', '__array_struct__', '__array_wrap__', '__bool__', '__ceil__', '__class__', '__class_getitem__', '__copy__', '__deepcopy__', '__delattr__', '__dir__', '__divmod__', '__doc__', '__eq__', '__float__', '__floor__', '__floordiv__', '__format__', '__ge__', '__getattribute__', '__getformat__', '__getitem__', '__getnewargs__', '__gt__', '__hash__', '__init__', '__init_subclass__', '__int__', '__invert__', '__le__', '__lshift__', '__lt__', '__mod__', '__mul__', '__ne__', '__neg__', '__new__', '__or__', '__pos__', '__pow__', '__radd__', '__rand__', '__rdivmod__', '__reduce__', '__reduce_ex__', '__repr__', '__rfloordiv__', '__rlshift__', '__rmod__', '__rmul__', '__ror__', '__round__', '__rpow__', '__rrshift__', '__rshift__', '__rsub__', '__rtruediv__', '__rxor__', '__setattr__', '__setformat__', '__setstate__', '__sizeof__', '__str__', '__sub__', '__subclasshook__', '__truediv__', '__trunc__', '__xor__', 'all', 'any', 'argmax', 'argmin', 'argsort', 'as_integer_ratio', 'astype', 'base', 'byteswap', 'choose', 'clip', 'compress', 'conj', 'conjugate', 'copy', 'cumprod', 'cumsum', 'data', 'diagonal', 'dtype', 'dump', 'dumps', 'fill', 'flags', 'flat', 'flatten', 'fromhex', 'getfield', 'hex', 'imag', 'is_integer', 'item', 'itemset', 'itemsize', 'max', 'mean', 'min', 'nbytes', 'ndim', 'newbyteorder', 'nonzero', 'prod', 'ptp', 'put', 'ravel', 'real', 'repeat', 'reshape', 'resize', 'round', 'searchsorted', 'setfield', 'setflags', 'shape', 'size', 'sort', 'squeeze', 'std', 'strides', 'sum', 'swapaxes', 'take', 'tobytes', 'tofile', 'tolist', 'tostring', 'trace', 'transpose', 'var', 'view']\n",
      "\n",
      "Detailed traceback:\n",
      "Error: nan\n",
      "Type of variable: <class 'numpy.float64'>\n",
      "Value of variable: nan\n",
      "Attributes and methods available in variable: ['T', '__abs__', '__add__', '__and__', '__array__', '__array_interface__', '__array_priority__', '__array_struct__', '__array_wrap__', '__bool__', '__ceil__', '__class__', '__class_getitem__', '__copy__', '__deepcopy__', '__delattr__', '__dir__', '__divmod__', '__doc__', '__eq__', '__float__', '__floor__', '__floordiv__', '__format__', '__ge__', '__getattribute__', '__getformat__', '__getitem__', '__getnewargs__', '__gt__', '__hash__', '__init__', '__init_subclass__', '__int__', '__invert__', '__le__', '__lshift__', '__lt__', '__mod__', '__mul__', '__ne__', '__neg__', '__new__', '__or__', '__pos__', '__pow__', '__radd__', '__rand__', '__rdivmod__', '__reduce__', '__reduce_ex__', '__repr__', '__rfloordiv__', '__rlshift__', '__rmod__', '__rmul__', '__ror__', '__round__', '__rpow__', '__rrshift__', '__rshift__', '__rsub__', '__rtruediv__', '__rxor__', '__setattr__', '__setformat__', '__setstate__', '__sizeof__', '__str__', '__sub__', '__subclasshook__', '__truediv__', '__trunc__', '__xor__', 'all', 'any', 'argmax', 'argmin', 'argsort', 'as_integer_ratio', 'astype', 'base', 'byteswap', 'choose', 'clip', 'compress', 'conj', 'conjugate', 'copy', 'cumprod', 'cumsum', 'data', 'diagonal', 'dtype', 'dump', 'dumps', 'fill', 'flags', 'flat', 'flatten', 'fromhex', 'getfield', 'hex', 'imag', 'is_integer', 'item', 'itemset', 'itemsize', 'max', 'mean', 'min', 'nbytes', 'ndim', 'newbyteorder', 'nonzero', 'prod', 'ptp', 'put', 'ravel', 'real', 'repeat', 'reshape', 'resize', 'round', 'searchsorted', 'setfield', 'setflags', 'shape', 'size', 'sort', 'squeeze', 'std', 'strides', 'sum', 'swapaxes', 'take', 'tobytes', 'tofile', 'tolist', 'tostring', 'trace', 'transpose', 'var', 'view']\n",
      "\n",
      "Detailed traceback:\n"
     ]
    },
    {
     "name": "stderr",
     "output_type": "stream",
     "text": [
      "Traceback (most recent call last):\n",
      "  File \"c:\\Users\\lipka\\HARD_DRIVE\\Projekte\\Projekte\\Project 146\\b25-model\\song2vec\\song2vec\\submodule\\song2vec.py\", line 55, in __epoch\n",
      "    context_vector = np.add(context_vector, self.vector_map[context_data_point])\n",
      "KeyError: nan\n",
      "Traceback (most recent call last):\n",
      "  File \"c:\\Users\\lipka\\HARD_DRIVE\\Projekte\\Projekte\\Project 146\\b25-model\\song2vec\\song2vec\\submodule\\song2vec.py\", line 55, in __epoch\n",
      "    context_vector = np.add(context_vector, self.vector_map[context_data_point])\n",
      "KeyError: nan\n",
      "Traceback (most recent call last):\n",
      "  File \"c:\\Users\\lipka\\HARD_DRIVE\\Projekte\\Projekte\\Project 146\\b25-model\\song2vec\\song2vec\\submodule\\song2vec.py\", line 55, in __epoch\n",
      "    context_vector = np.add(context_vector, self.vector_map[context_data_point])\n",
      "KeyError: nan\n",
      "Traceback (most recent call last):\n",
      "  File \"c:\\Users\\lipka\\HARD_DRIVE\\Projekte\\Projekte\\Project 146\\b25-model\\song2vec\\song2vec\\submodule\\song2vec.py\", line 55, in __epoch\n",
      "    context_vector = np.add(context_vector, self.vector_map[context_data_point])\n",
      "KeyError: nan\n",
      "Traceback (most recent call last):\n",
      "  File \"c:\\Users\\lipka\\HARD_DRIVE\\Projekte\\Projekte\\Project 146\\b25-model\\song2vec\\song2vec\\submodule\\song2vec.py\", line 55, in __epoch\n",
      "    context_vector = np.add(context_vector, self.vector_map[context_data_point])\n",
      "KeyError: nan\n",
      "Traceback (most recent call last):\n",
      "  File \"c:\\Users\\lipka\\HARD_DRIVE\\Projekte\\Projekte\\Project 146\\b25-model\\song2vec\\song2vec\\submodule\\song2vec.py\", line 55, in __epoch\n",
      "    context_vector = np.add(context_vector, self.vector_map[context_data_point])\n",
      "KeyError: nan\n"
     ]
    },
    {
     "name": "stdout",
     "output_type": "stream",
     "text": [
      "epochwrapup\n",
      "mainskips 0\n",
      "sub skips 127473\n",
      "total sub 71402320\n",
      "Epoche: 2\n"
     ]
    }
   ],
   "source": [
    "import sys\n",
    "import os\n",
    "\n",
    "root_dir = os.path.abspath(\"../song2vec\")  \n",
    "sys.path.append(root_dir)\n",
    "\n",
    "import song2vec.submodule\n",
    "\n",
    "print(len(train_dataset))\n",
    "\n",
    "import time\n",
    "\n",
    "start = time.time()\n",
    "a = song2vec.submodule.Song2Vec(train_dataset[0:500], vector_size=512, epochs=5, learning_rate=0.0005)\n",
    "end = time.time()\n",
    "\n",
    "print(end-start)\n",
    "\n",
    "a.save(\"../models/b25-sn-v512/b25-sn-v512-c.pkl\")\n",
    "\n",
    "# need some working with nan values in the dataset... or with nan values in the keys...\n",
    "\n",
    "# 7.803 for 100\n",
    "# 5670.13 * 7.803 that would be 1.4 years of training...\n",
    "\n",
    "# generally it's an issues with floats in there\n",
    "# need to cast every element of the list to string and also somehow ignore the nan values\n",
    "# some data cleaning is needed to be done"
   ]
  },
  {
   "cell_type": "markdown",
   "metadata": {},
   "source": [
    "## Param\n",
    "\n",
    "#### b25-sn-v50\n",
    "> vector_size=50, window=5, min_count=1, sg=0\n",
    "\n",
    "#### b25-sn-v256-a\n",
    "> vector_size=256, window=5, min_count=1, sg=0\n",
    "\n",
    "#### b25-sn-v256-b\n",
    "> vector_size=256, window=10, min_count=1, sg=0\n",
    "\n",
    "#### b25-sn-v256-c\n",
    "> vector_size=256, window=20, min_count=1, sg=0\n",
    "\n",
    "#### b25-sn-v256-d\n",
    "> vector_size=256, window=20, min_count=1, sg=1, ns_exponent=0.0\n",
    "\n",
    "#### b25-sn-v512-a\n",
    "> vector_size=512, window=100, min_count=1, sg=0\n",
    "\n",
    "#### b25-sn-v512-b\n",
    "> vector_size=512, window=100, min_count=1, sg=1, ns_exponent=0.0"
   ]
  },
  {
   "cell_type": "markdown",
   "metadata": {},
   "source": [
    "## Variation\n",
    "CBOW and other learning algorithms focus more on the words near the target word. That makes sense for Natural Language Understanding, but I'm working with playlists, where the weighting of context words is irrelevant.\n",
    "\n",
    "There are some ways to minimize this, but I might need to implement my own training algorithm to eliminate these types of caveats."
   ]
  },
  {
   "cell_type": "code",
   "execution_count": null,
   "metadata": {},
   "outputs": [],
   "source": [
    "word2vec_model = Word2Vec(\n",
    "    sentences=train_dataset, \n",
    "    vector_size=256, \n",
    "    window=20,\n",
    "    min_count=1, \n",
    "    workers=10,\n",
    "    sg=1,            \n",
    "    ns_exponent=0.0\n",
    ")\n",
    "\"\"\"\n",
    "sg=1 means it is using the Skip Gram Algorithm wich is a bit less biased towards\n",
    "closer context words\n",
    "Also ns_exponent=0.0 means equal weighting for negative sampling\n",
    "\"\"\"\n",
    "\n",
    "word2vec_model.save(\"../models/b25-sn-v256/b25-sn-v256-e.model\")"
   ]
  }
 ],
 "metadata": {
  "kernelspec": {
   "display_name": "venv",
   "language": "python",
   "name": "python3"
  },
  "language_info": {
   "codemirror_mode": {
    "name": "ipython",
    "version": 3
   },
   "file_extension": ".py",
   "mimetype": "text/x-python",
   "name": "python",
   "nbconvert_exporter": "python",
   "pygments_lexer": "ipython3",
   "version": "3.10.11"
  }
 },
 "nbformat": 4,
 "nbformat_minor": 2
}
