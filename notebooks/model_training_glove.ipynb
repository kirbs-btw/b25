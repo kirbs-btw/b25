{
 "cells": [
  {
   "cell_type": "code",
   "execution_count": null,
   "metadata": {},
   "outputs": [
    {
     "name": "stdout",
     "output_type": "stream",
     "text": [
      "Epoch 1/5, Loss: 5.938723193290349e-05\n",
      "Epoch 2/5, Loss: 5.776355248582258e-05\n",
      "Epoch 3/5, Loss: 5.6186581471393286e-05\n",
      "Epoch 4/5, Loss: 5.465492306168793e-05\n",
      "Epoch 5/5, Loss: 5.3167224270568473e-05\n"
     ]
    }
   ],
   "source": [
    "import numpy as np\n",
    "import math\n",
    "import random\n",
    "\n",
    "# Hyperparameters\n",
    "embedding_dim = 128\n",
    "alpha = 0.75\n",
    "x_max = 100\n",
    "learning_rate = 0.05\n",
    "epochs = 5\n",
    "\n",
    "# Suppose we have a list of playlists, each a list of song_ids.\n",
    "playlists = [[], []]\n",
    "\n",
    "# Step 1: Build the co-occurrence dictionary\n",
    "co_occurrence = {}\n",
    "for pl in playlists:\n",
    "    songs = list(set(pl))  # ensure uniqueness if needed\n",
    "    for i in range(len(songs)):\n",
    "        for j in range(i + 1, len(songs)):\n",
    "            s1, s2 = songs[i], songs[j]\n",
    "            if s1 > s2:\n",
    "                s1, s2 = s2, s1\n",
    "            co_occurrence[(s1, s2)] = co_occurrence.get((s1, s2), 0) + 1\n",
    "\n",
    "# Extract a mapping for song IDs to indices\n",
    "song_ids = set()\n",
    "for i, j in co_occurrence.keys():\n",
    "    song_ids.add(i)\n",
    "    song_ids.add(j)\n",
    "song_ids = list(song_ids)\n",
    "song_to_idx = {song_id: idx for idx, song_id in enumerate(song_ids)}\n",
    "vocab_size = len(song_ids)\n",
    "\n",
    "# Convert co_occurrence dict to arrays for training\n",
    "pairs = []\n",
    "for (i, j), count in co_occurrence.items():\n",
    "    pairs.append((song_to_idx[i], song_to_idx[j], count))\n",
    "\n",
    "# Initialize embeddings and biases\n",
    "W = np.random.randn(vocab_size, embedding_dim) / math.sqrt(embedding_dim)\n",
    "W_tilde = np.random.randn(vocab_size, embedding_dim) / math.sqrt(embedding_dim)\n",
    "b = np.zeros(vocab_size)\n",
    "b_tilde = np.zeros(vocab_size)\n",
    "\n",
    "\n",
    "def f(x):\n",
    "    return (x / x_max) ** alpha if x < x_max else 1\n",
    "\n",
    "\n",
    "# Training Loop\n",
    "for epoch in range(epochs):\n",
    "    random.shuffle(pairs)\n",
    "    total_loss = 0.0\n",
    "    for i_idx, j_idx, X_ij in pairs:\n",
    "        # Compute prediction\n",
    "        w_i = W[i_idx]\n",
    "        w_j = W_tilde[j_idx]\n",
    "        bi = b[i_idx]\n",
    "        bj = b_tilde[j_idx]\n",
    "\n",
    "        # current prediction\n",
    "        pred = np.dot(w_i, w_j) + bi + bj\n",
    "        logX = math.log(X_ij)\n",
    "        weight = f(X_ij)\n",
    "        diff = pred - logX\n",
    "        loss = weight * (diff**2)\n",
    "        total_loss += loss\n",
    "\n",
    "        # gradients\n",
    "        grad = 2 * weight * diff\n",
    "        # update W, W_tilde, b, b_tilde\n",
    "        W[i_idx] -= learning_rate * grad * w_j\n",
    "        W_tilde[j_idx] -= learning_rate * grad * w_i\n",
    "        b[i_idx] -= learning_rate * grad\n",
    "        b_tilde[j_idx] -= learning_rate * grad\n",
    "\n",
    "    print(f\"Epoch {epoch+1}/{epochs}, Loss: {total_loss/len(pairs)}\")\n",
    "\n",
    "# After training, W + W_tilde (or their average) can be used as the final embedding\n",
    "final_embeddings = (W + W_tilde) / 2.0\n",
    "\n",
    "\n",
    "# To get recommendations:\n",
    "# Given a song s, find closest embeddings in cosine similarity space.\n",
    "def recommend(song_id, top_k=10):\n",
    "    idx = song_to_idx[song_id]\n",
    "    v = final_embeddings[idx]\n",
    "    sims = (\n",
    "        final_embeddings\n",
    "        @ v\n",
    "        / (np.linalg.norm(final_embeddings, axis=1) * np.linalg.norm(v))\n",
    "    )\n",
    "    # sort by similarity\n",
    "    best = np.argsort(-sims)[: top_k + 1]\n",
    "    return [song_ids[b] for b in best if b != idx][:top_k]\n",
    "\n",
    "\n",
    "# Evaluate accuracy by checking if the predicted songs appear in test playlists"
   ]
  },
  {
   "cell_type": "code",
   "execution_count": 3,
   "metadata": {},
   "outputs": [
    {
     "data": {
      "text/plain": [
       "['b', 'a']"
      ]
     },
     "execution_count": 3,
     "metadata": {},
     "output_type": "execute_result"
    }
   ],
   "source": [
    "recommend(\"c\")"
   ]
  },
  {
   "cell_type": "code",
   "execution_count": null,
   "metadata": {},
   "outputs": [],
   "source": []
  }
 ],
 "metadata": {
  "kernelspec": {
   "display_name": "venv",
   "language": "python",
   "name": "python3"
  },
  "language_info": {
   "codemirror_mode": {
    "name": "ipython",
    "version": 3
   },
   "file_extension": ".py",
   "mimetype": "text/x-python",
   "name": "python",
   "nbconvert_exporter": "python",
   "pygments_lexer": "ipython3",
   "version": "3.10.11"
  }
 },
 "nbformat": 4,
 "nbformat_minor": 2
}
