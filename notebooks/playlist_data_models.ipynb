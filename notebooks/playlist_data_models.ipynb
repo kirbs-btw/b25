{
 "cells": [
  {
   "cell_type": "markdown",
   "metadata": {},
   "source": [
    "# Playlist name embedding"
   ]
  },
  {
   "cell_type": "markdown",
   "metadata": {},
   "source": [
    "## Imports"
   ]
  },
  {
   "cell_type": "code",
   "execution_count": 3,
   "metadata": {},
   "outputs": [],
   "source": [
    "import gensim\n",
    "from gensim.models import Word2Vec\n",
    "from nltk.tokenize import word_tokenize\n",
    "import nltk\n",
    "import pandas as pd"
   ]
  },
  {
   "cell_type": "markdown",
   "metadata": {},
   "source": [
    "## tokenize data"
   ]
  },
  {
   "cell_type": "code",
   "execution_count": 2,
   "metadata": {},
   "outputs": [],
   "source": [
    "df = pd.read_csv(\"../data/csv/playlists_dataset/spotify_dataset.csv\", on_bad_lines='skip')"
   ]
  },
  {
   "cell_type": "code",
   "execution_count": 3,
   "metadata": {},
   "outputs": [],
   "source": [
    "clean_df = df[[\"trackname\", \"playlistname\"]]\n",
    "clean_df.to_csv(\"../data/csv/playlists_dataset/playlist_big.csv\")"
   ]
  },
  {
   "cell_type": "code",
   "execution_count": 4,
   "metadata": {},
   "outputs": [],
   "source": [
    "\n",
    "clean_df = pd.read_csv(\"../data/csv/playlists_dataset/playlist_big.csv\")\n",
    "# group the trackname by playlistname in a np.array\n",
    "tokenized_playlist = clean_df.groupby(\"playlistname\")[\"trackname\"].apply(list).tolist()"
   ]
  },
  {
   "cell_type": "code",
   "execution_count": 5,
   "metadata": {},
   "outputs": [],
   "source": [
    "max_idx = len(tokenized_playlist) - 1 \n",
    "anchor = int(max_idx * 0.8)\n",
    "\n",
    "training_set = tokenized_playlist[:anchor]\n",
    "test_set = tokenized_playlist[anchor:]"
   ]
  },
  {
   "cell_type": "code",
   "execution_count": 6,
   "metadata": {},
   "outputs": [],
   "source": [
    "import pickle\n",
    "\n",
    "with open('../data/tokenized_data/playlist_names/train_set_clean.pkl', 'wb') as f:\n",
    "    pickle.dump(training_set, f)\n",
    "\n",
    "\n",
    "with open('../data/tokenized_data/playlist_names/test_set.pkl', 'wb') as f:\n",
    "    pickle.dump(test_set, f)"
   ]
  },
  {
   "cell_type": "code",
   "execution_count": 8,
   "metadata": {},
   "outputs": [],
   "source": [
    "import pickle\n",
    "\n",
    "with open('../data/tokenized_data/playlist_names/playlist_names_big_tokenized.pkl', 'wb') as f:\n",
    "    pickle.dump(tokenized_playlist, f)"
   ]
  },
  {
   "cell_type": "code",
   "execution_count": 12,
   "metadata": {},
   "outputs": [],
   "source": [
    "import pickle\n",
    "\n",
    "with open('../data/tokenized_data/playlist_names/playlist_names_big_tokenized.pkl', 'rb') as f:\n",
    "    tokenized_playlist = pickle.load(f)"
   ]
  },
  {
   "cell_type": "code",
   "execution_count": 7,
   "metadata": {},
   "outputs": [],
   "source": [
    "import numpy as np\n",
    "import random\n",
    "import pandas as pd\n",
    "\n",
    "\n",
    "clean_df = pd.read_csv(\"../data/csv/playlists_dataset/playlist_big.csv\")\n",
    "# group the trackname by playlistname in a np.array\n",
    "temp_arr = clean_df.groupby(\"playlistname\")[\"trackname\"].apply(list)"
   ]
  },
  {
   "cell_type": "code",
   "execution_count": 8,
   "metadata": {},
   "outputs": [
    {
     "data": {
      "text/plain": [
       "(157504,)"
      ]
     },
     "execution_count": 8,
     "metadata": {},
     "output_type": "execute_result"
    }
   ],
   "source": [
    "temp_arr.shape"
   ]
  },
  {
   "cell_type": "code",
   "execution_count": 11,
   "metadata": {},
   "outputs": [],
   "source": [
    "n = 3\n",
    "\n",
    "temp_arr = temp_arr[:int(len(temp_arr)*0.8)]\n",
    "\n",
    "shuffled_arrays = temp_arr.tolist()\n",
    "\n",
    "# Shuffle each sub-array n times and collect results\n",
    "for subarray in temp_arr:\n",
    "    for _ in range(n):\n",
    "        shuffled_arrays.append(np.random.permutation(subarray).tolist())\n",
    "\n",
    "# tokenized_shuffled_playlist = np.array(temp_arr)"
   ]
  },
  {
   "cell_type": "code",
   "execution_count": 12,
   "metadata": {},
   "outputs": [
    {
     "data": {
      "text/plain": [
       "504012"
      ]
     },
     "execution_count": 12,
     "metadata": {},
     "output_type": "execute_result"
    }
   ],
   "source": [
    "len(shuffled_arrays)"
   ]
  },
  {
   "cell_type": "code",
   "execution_count": 13,
   "metadata": {},
   "outputs": [],
   "source": [
    "import pickle\n",
    "\n",
    "\n",
    "\n",
    "with open('../data/tokenized_data/playlist_names/train_set_shuffle.pkl', 'wb') as f:\n",
    "    pickle.dump(shuffled_arrays, f)\n"
   ]
  },
  {
   "cell_type": "markdown",
   "metadata": {},
   "source": [
    "## train basic model"
   ]
  },
  {
   "cell_type": "markdown",
   "metadata": {},
   "source": [
    "Training Parameters: \n",
    "\n",
    "window:\n",
    "\n",
    "    how many words around it should be looked at while training for a word\n",
    "vector_size:\n",
    "\n",
    "    what dimension will the embedding have of the word\n",
    "min_count:\n",
    "\n",
    "    how often does the word need to appear in the dataset to be in the model \n",
    "sg:\n",
    "\n",
    "    what algorithm for training is used\n",
    "    0: default --> CBOW (Conitnuous Bag of Words)\n",
    "    1: Skip-Gram\n",
    "epochs:\n",
    "\n",
    "    Number of Training iterations\n",
    "alpha:\n",
    "\n",
    "    initial learning rate\n",
    "workers:\n",
    "\n",
    "    how many CPU cors are used for training    "
   ]
  },
  {
   "cell_type": "code",
   "execution_count": 14,
   "metadata": {},
   "outputs": [],
   "source": [
    "import pickle\n",
    "\n",
    "with open('../data/tokenized_data/playlist_names/train_set_shuffle.pkl', 'rb') as f:\n",
    "    playlist_data = pickle.load(f)"
   ]
  },
  {
   "cell_type": "code",
   "execution_count": null,
   "metadata": {},
   "outputs": [],
   "source": [
    "word2vec_model = Word2Vec(sentences=tokenized_playlist, vector_size=50, window=5, min_count=1, workers=10)\n",
    "word2vec_model.save(\"../models/b25-sn-v50/b25-sn-v50.model\")"
   ]
  },
  {
   "cell_type": "code",
   "execution_count": 15,
   "metadata": {},
   "outputs": [],
   "source": [
    "word2vec_model = Word2Vec(sentences=playlist_data, vector_size=256, window=20, min_count=1, workers=10)\n",
    "word2vec_model.save(\"../models/b25-sn-v256/b25-sn-v256-d.model\")"
   ]
  },
  {
   "cell_type": "markdown",
   "metadata": {},
   "source": [
    "## model testing"
   ]
  },
  {
   "cell_type": "code",
   "execution_count": 3,
   "metadata": {},
   "outputs": [],
   "source": [
    "model = Word2Vec.load(\"../models/b25-sn-v256/b25-sn-v256.model\")"
   ]
  },
  {
   "cell_type": "code",
   "execution_count": null,
   "metadata": {},
   "outputs": [],
   "source": [
    "word_embedding = model.wv['(The Angels Wanna Wear My) Red Shoes']\n",
    "print(word_embedding)"
   ]
  }
 ],
 "metadata": {
  "kernelspec": {
   "display_name": "venv",
   "language": "python",
   "name": "python3"
  },
  "language_info": {
   "codemirror_mode": {
    "name": "ipython",
    "version": 3
   },
   "file_extension": ".py",
   "mimetype": "text/x-python",
   "name": "python",
   "nbconvert_exporter": "python",
   "pygments_lexer": "ipython3",
   "version": "3.10.11"
  }
 },
 "nbformat": 4,
 "nbformat_minor": 2
}
