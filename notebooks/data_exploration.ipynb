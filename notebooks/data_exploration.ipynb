{
 "cells": [
  {
   "cell_type": "code",
   "execution_count": 2,
   "metadata": {},
   "outputs": [],
   "source": [
    "import pandas as pd"
   ]
  },
  {
   "cell_type": "code",
   "execution_count": 3,
   "metadata": {},
   "outputs": [],
   "source": [
    "df = pd.read_csv('../data/csv/playlists_dataset/playlist_data.csv')"
   ]
  },
  {
   "cell_type": "code",
   "execution_count": 18,
   "metadata": {},
   "outputs": [
    {
     "name": "stdout",
     "output_type": "stream",
     "text": [
      "(2032044,)\n"
     ]
    }
   ],
   "source": [
    "print(df['trackname'].unique().shape)\n",
    "# 2032044 unique songs"
   ]
  },
  {
   "cell_type": "code",
   "execution_count": 19,
   "metadata": {},
   "outputs": [
    {
     "name": "stdout",
     "output_type": "stream",
     "text": [
      "12891680\n"
     ]
    }
   ],
   "source": [
    "num_of_entrys = df['trackname'].shape[0]\n",
    "print(num_of_entrys)\n",
    "# 12891680 entrys of songs"
   ]
  },
  {
   "cell_type": "code",
   "execution_count": 20,
   "metadata": {},
   "outputs": [
    {
     "name": "stdout",
     "output_type": "stream",
     "text": [
      "157505\n"
     ]
    }
   ],
   "source": [
    "num_of_playlists = df['playlistname'].unique().shape[0]\n",
    "print(num_of_playlists)\n",
    "# 157505 playlists"
   ]
  },
  {
   "cell_type": "code",
   "execution_count": 21,
   "metadata": {},
   "outputs": [
    {
     "name": "stdout",
     "output_type": "stream",
     "text": [
      "81.84933811625028\n"
     ]
    }
   ],
   "source": [
    "avg_playlist_len = num_of_entrys / num_of_playlists\n",
    "print(avg_playlist_len)"
   ]
  },
  {
   "cell_type": "code",
   "execution_count": null,
   "metadata": {},
   "outputs": [],
   "source": [
    "# Search string\n",
    "search_string = 'party in the usa'\n",
    "\n",
    "# Case-insensitive search in a column\n",
    "result = df[df['trackname'].str.contains(search_string, case=False)]\n",
    "\n",
    "print(result)"
   ]
  }
 ],
 "metadata": {
  "kernelspec": {
   "display_name": "venv",
   "language": "python",
   "name": "python3"
  },
  "language_info": {
   "codemirror_mode": {
    "name": "ipython",
    "version": 3
   },
   "file_extension": ".py",
   "mimetype": "text/x-python",
   "name": "python",
   "nbconvert_exporter": "python",
   "pygments_lexer": "ipython3",
   "version": "3.10.11"
  }
 },
 "nbformat": 4,
 "nbformat_minor": 2
}
