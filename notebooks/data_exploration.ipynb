{
 "cells": [
  {
   "cell_type": "code",
   "execution_count": 1,
   "metadata": {},
   "outputs": [],
   "source": [
    "import pandas as pd"
   ]
  },
  {
   "cell_type": "code",
   "execution_count": 2,
   "metadata": {},
   "outputs": [],
   "source": [
    "df = pd.read_csv('../data/csv/playlists_dataset/playlist_data.csv')"
   ]
  },
  {
   "cell_type": "code",
   "execution_count": 3,
   "metadata": {},
   "outputs": [
    {
     "name": "stdout",
     "output_type": "stream",
     "text": [
      "(2032044,)\n"
     ]
    }
   ],
   "source": [
    "print(df['trackname'].unique().shape)\n",
    "# 2032044 unique songs"
   ]
  },
  {
   "cell_type": "code",
   "execution_count": 4,
   "metadata": {},
   "outputs": [
    {
     "name": "stdout",
     "output_type": "stream",
     "text": [
      "12891680\n"
     ]
    }
   ],
   "source": [
    "num_of_entrys = df['trackname'].shape[0]\n",
    "print(num_of_entrys)\n",
    "# 12891680 entrys of songs"
   ]
  },
  {
   "cell_type": "code",
   "execution_count": 5,
   "metadata": {},
   "outputs": [
    {
     "name": "stdout",
     "output_type": "stream",
     "text": [
      "157505\n"
     ]
    }
   ],
   "source": [
    "num_of_playlists = df['playlistname'].unique().shape[0]\n",
    "print(num_of_playlists)\n",
    "# 157505 playlists"
   ]
  },
  {
   "cell_type": "code",
   "execution_count": 6,
   "metadata": {},
   "outputs": [
    {
     "name": "stdout",
     "output_type": "stream",
     "text": [
      "81.84933811625028\n"
     ]
    }
   ],
   "source": [
    "avg_playlist_len = num_of_entrys / num_of_playlists\n",
    "print(avg_playlist_len)"
   ]
  },
  {
   "cell_type": "code",
   "execution_count": 7,
   "metadata": {},
   "outputs": [],
   "source": [
    "tokenized_playlist_np = df.groupby(\"playlistname\")[\"trackname\"].apply(list)\n",
    "tokenized_playlist = tokenized_playlist_np.tolist()"
   ]
  },
  {
   "cell_type": "code",
   "execution_count": 15,
   "metadata": {},
   "outputs": [
    {
     "name": "stdout",
     "output_type": "stream",
     "text": [
      "Total Playlists: 157504\n",
      "Total Songs: 12890434\n",
      "Average Songs per Playlist: 81.84194687119057\n",
      "Variance of Songs per Playlist: 11685923.924633183\n",
      "Standard Deviation of Songs per Playlist: 3418.468066931909\n",
      "Shortest Playlist Length: 1\n",
      "Longest Playlist Length: 1337085\n"
     ]
    }
   ],
   "source": [
    "import numpy as np \n",
    "\n",
    "playlist_lengths = np.array([len(playlist) for playlist in tokenized_playlist])\n",
    "\n",
    "total_playlists = len(tokenized_playlist)\n",
    "\n",
    "total_songs = sum(playlist_lengths)\n",
    "\n",
    "average_songs_per_playlist = np.mean(playlist_lengths)\n",
    "\n",
    "variance_songs_per_playlist = np.var(playlist_lengths)\n",
    "std_dev_songs_per_playlist = np.std(playlist_lengths)\n",
    "\n",
    "shortest_playlist = min(playlist_lengths)\n",
    "longest_playlist = max(playlist_lengths)\n",
    "\n",
    "metrics = {\n",
    "    \"Total Playlists\": total_playlists,\n",
    "    \"Total Songs\": total_songs,\n",
    "    \"Average Songs per Playlist\": average_songs_per_playlist,\n",
    "    \"Variance of Songs per Playlist\": variance_songs_per_playlist,\n",
    "    \"Standard Deviation of Songs per Playlist\": std_dev_songs_per_playlist,\n",
    "    \"Shortest Playlist Length\": shortest_playlist,\n",
    "    \"Longest Playlist Length\": longest_playlist\n",
    "}\n",
    "\n",
    "for key, value in metrics.items():\n",
    "    print(f\"{key}: {value}\")"
   ]
  },
  {
   "cell_type": "code",
   "execution_count": 16,
   "metadata": {},
   "outputs": [
    {
     "name": "stdout",
     "output_type": "stream",
     "text": [
      "Total Playlists (after filtering): 138847\n",
      "Total Songs (after filtering): 3519750\n",
      "Average Songs per Playlist (after filtering): 25.349845513406844\n",
      "Variance of Songs per Playlist (after filtering): 512.453400175634\n",
      "Standard Deviation of Songs per Playlist (after filtering): 22.637433604002773\n",
      "Shortest Playlist Length (after filtering): 1\n",
      "Longest Playlist Length (after filtering): 103\n"
     ]
    }
   ],
   "source": [
    "# Remove extreme outliers (e.g., playlists with lengths beyond a reasonable range)\n",
    "# Using Interquartile Range (IQR) method for outlier detection\n",
    "Q1 = np.percentile(playlist_lengths, 25)  # First quartile (25th percentile)\n",
    "Q3 = np.percentile(playlist_lengths, 75)  # Third quartile (75th percentile)\n",
    "IQR = Q3 - Q1  # Interquartile range\n",
    "\n",
    "lower_bound = Q1 - 1.5 * IQR\n",
    "upper_bound = Q3 + 1.5 * IQR\n",
    "\n",
    "filtered_playlist_lengths = playlist_lengths[(playlist_lengths >= lower_bound) & (playlist_lengths <= upper_bound)]\n",
    "\n",
    "total_playlists = len(filtered_playlist_lengths)\n",
    "total_songs = sum(filtered_playlist_lengths)\n",
    "average_songs_per_playlist = np.mean(filtered_playlist_lengths)\n",
    "variance_songs_per_playlist = np.var(filtered_playlist_lengths)\n",
    "std_dev_songs_per_playlist = np.std(filtered_playlist_lengths)\n",
    "shortest_playlist = min(filtered_playlist_lengths)\n",
    "longest_playlist = max(filtered_playlist_lengths)\n",
    "\n",
    "metrics = {\n",
    "    \"Total Playlists (after filtering)\": total_playlists,\n",
    "    \"Total Songs (after filtering)\": total_songs,\n",
    "    \"Average Songs per Playlist (after filtering)\": average_songs_per_playlist,\n",
    "    \"Variance of Songs per Playlist (after filtering)\": variance_songs_per_playlist,\n",
    "    \"Standard Deviation of Songs per Playlist (after filtering)\": std_dev_songs_per_playlist,\n",
    "    \"Shortest Playlist Length (after filtering)\": shortest_playlist,\n",
    "    \"Longest Playlist Length (after filtering)\": longest_playlist\n",
    "}\n",
    "\n",
    "for key, value in metrics.items():\n",
    "    print(f\"{key}: {value}\")\n"
   ]
  },
  {
   "cell_type": "code",
   "execution_count": 38,
   "metadata": {},
   "outputs": [
    {
     "name": "stdout",
     "output_type": "stream",
     "text": [
      "          Unnamed: 0                     trackname  \\\n",
      "1509            1509          Too Old To Die Young   \n",
      "2107            2107                If I Die Young   \n",
      "2663            2663  One Of Us Is Gonna Die Young   \n",
      "4884            4884                     Die Young   \n",
      "8162            8162  One Of Us Is Gonna Die Young   \n",
      "...              ...                           ...   \n",
      "12875906    12875906  Live Fast Die Young - B-Side   \n",
      "12879435    12879435              Rather Die Young   \n",
      "12890321    12890321                  We Die Young   \n",
      "12890681    12890681                     Die Young   \n",
      "12890984    12890984                     Die Young   \n",
      "\n",
      "                               playlistname                    artistname  \n",
      "1509                          Work playlist  Brother Dege (AKA Dege Legg)  \n",
      "2107                                Starred                The Band Perry  \n",
      "2663                tove's spamlista (okok)                       The Ark  \n",
      "4884                     Everything at once           The Sweet Serenades  \n",
      "8162                     Everything at once                       The Ark  \n",
      "...                                     ...                           ...  \n",
      "12875906  Saxon — The EMI Years (1985-1988)                         Saxon  \n",
      "12879435                        Beyoncé - 4                       Beyoncé  \n",
      "12890321                          Rum! Time               Alice In Chains  \n",
      "12890681          Happy Atlanta Pride 2012!                         Ke$ha  \n",
      "12890984                            Starred                         Ke$ha  \n",
      "\n",
      "[3094 rows x 4 columns]\n"
     ]
    }
   ],
   "source": [
    "# Search string\n",
    "search_string = \"die young\"\n",
    "\n",
    "# Case-insensitive search in a column\n",
    "result = df[df['trackname'].str.contains(search_string, case=False, na=False)]\n",
    "\n",
    "print(result)"
   ]
  },
  {
   "cell_type": "code",
   "execution_count": null,
   "metadata": {},
   "outputs": [],
   "source": []
  }
 ],
 "metadata": {
  "kernelspec": {
   "display_name": "venv",
   "language": "python",
   "name": "python3"
  },
  "language_info": {
   "codemirror_mode": {
    "name": "ipython",
    "version": 3
   },
   "file_extension": ".py",
   "mimetype": "text/x-python",
   "name": "python",
   "nbconvert_exporter": "python",
   "pygments_lexer": "ipython3",
   "version": "3.10.11"
  }
 },
 "nbformat": 4,
 "nbformat_minor": 2
}
