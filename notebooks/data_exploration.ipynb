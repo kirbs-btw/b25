{
 "cells": [
  {
   "cell_type": "markdown",
   "metadata": {},
   "source": [
    "# Basic data exploration\n",
    "Startingpoint is the datasets library"
   ]
  },
  {
   "cell_type": "code",
   "execution_count": 1,
   "metadata": {},
   "outputs": [
    {
     "name": "stderr",
     "output_type": "stream",
     "text": [
      "c:\\Users\\lipka\\HARD_DRIVE\\Projekte\\Projekte\\Project 146\\b25-model\\venv\\lib\\site-packages\\tqdm\\auto.py:21: TqdmWarning: IProgress not found. Please update jupyter and ipywidgets. See https://ipywidgets.readthedocs.io/en/stable/user_install.html\n",
      "  from .autonotebook import tqdm as notebook_tqdm\n"
     ]
    }
   ],
   "source": [
    "from datasets import load_dataset\n",
    "\n",
    "dataset = load_dataset('imdb')\n",
    "train = dataset['train']\n",
    "texts = train['text']"
   ]
  },
  {
   "cell_type": "code",
   "execution_count": 2,
   "metadata": {},
   "outputs": [],
   "source": [
    "import gensim\n",
    "from gensim.models import Word2Vec\n",
    "from nltk.tokenize import word_tokenize\n",
    "import nltk"
   ]
  },
  {
   "cell_type": "code",
   "execution_count": 3,
   "metadata": {},
   "outputs": [
    {
     "name": "stdout",
     "output_type": "stream",
     "text": [
      "Word embedding for 'something': [ 1.56351421e-02 -1.90203730e-02 -4.11062239e-04  6.93839323e-03\n",
      " -1.87794445e-03  1.67635437e-02  1.80215668e-02  1.30730132e-02\n",
      " -1.42324204e-03  1.54208085e-02 -1.70686692e-02  6.41421322e-03\n",
      " -9.27599426e-03 -1.01779103e-02  7.17923651e-03  1.07406788e-02\n",
      "  1.55390287e-02 -1.15330126e-02  1.48667218e-02  1.32509926e-02\n",
      " -7.41960062e-03 -1.74912829e-02  1.08749345e-02  1.30195115e-02\n",
      " -1.57510047e-03 -1.34197120e-02 -1.41718509e-02 -4.99412045e-03\n",
      "  1.02865072e-02 -7.33047491e-03 -1.87401194e-02  7.65347946e-03\n",
      "  9.76895820e-03 -1.28571270e-02  2.41711619e-03 -4.14975407e-03\n",
      "  4.88066689e-05 -1.97670180e-02  5.38400887e-03 -9.50021297e-03\n",
      "  2.17529293e-03 -3.15244915e-03  4.39334614e-03 -1.57631524e-02\n",
      " -5.43436781e-03  5.32639725e-03  1.06933638e-02 -4.78302967e-03\n",
      " -1.90201886e-02  9.01175756e-03]\n"
     ]
    },
    {
     "name": "stderr",
     "output_type": "stream",
     "text": [
      "[nltk_data] Downloading package punkt to\n",
      "[nltk_data]     C:\\Users\\lipka\\AppData\\Roaming\\nltk_data...\n",
      "[nltk_data]   Package punkt is already up-to-date!\n",
      "[nltk_data] Downloading package punkt_tab to\n",
      "[nltk_data]     C:\\Users\\lipka\\AppData\\Roaming\\nltk_data...\n",
      "[nltk_data]   Package punkt_tab is already up-to-date!\n"
     ]
    }
   ],
   "source": [
    "nltk.download('punkt')\n",
    "nltk.download('punkt_tab')\n",
    "\n",
    "sentences = [\n",
    "    \"Here something to read!\",\n",
    "    \"Embeddings are cool because they help\",\n",
    "    \"Word embeddings can be useful in various NLP tasks\"\n",
    "]\n",
    "\n",
    "# small corpus 3 sentences\n",
    "sentence_corpus = texts\n",
    "\n",
    "# bigger corpus 25k sentences\n",
    "sentence_corpus = sentences\n",
    "\n",
    "# Tokenize the sentences\n",
    "tokenized_sentences = [word_tokenize(sentence.lower()) for sentence in sentence_corpus]\n",
    "tokenized_sentences\n",
    "\n",
    "# Train Word2Vec\n",
    "word2vec_model = Word2Vec(sentences=tokenized_sentences, vector_size=50, window=5, min_count=1)\n",
    "# the training with 25k sentences is pretty quick \n",
    "\n",
    "\n",
    "# Access the embedding of a word\n",
    "word_embedding = word2vec_model.wv['something']\n",
    "print(\"Word embedding for 'something':\", word_embedding)"
   ]
  },
  {
   "cell_type": "code",
   "execution_count": null,
   "metadata": {},
   "outputs": [],
   "source": []
  }
 ],
 "metadata": {
  "kernelspec": {
   "display_name": "venv",
   "language": "python",
   "name": "python3"
  },
  "language_info": {
   "codemirror_mode": {
    "name": "ipython",
    "version": 3
   },
   "file_extension": ".py",
   "mimetype": "text/x-python",
   "name": "python",
   "nbconvert_exporter": "python",
   "pygments_lexer": "ipython3",
   "version": "3.10.11"
  }
 },
 "nbformat": 4,
 "nbformat_minor": 2
}
