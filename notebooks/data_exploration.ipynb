{
 "cells": [
  {
   "cell_type": "markdown",
   "metadata": {},
   "source": [
    "# Basic data exploration\n",
    "Startingpoint is the datasets library"
   ]
  },
  {
   "cell_type": "code",
   "execution_count": 9,
   "metadata": {},
   "outputs": [
    {
     "data": {
      "text/plain": [
       "25000"
      ]
     },
     "execution_count": 9,
     "metadata": {},
     "output_type": "execute_result"
    }
   ],
   "source": [
    "from datasets import load_dataset\n",
    "\n",
    "dataset = load_dataset('imdb')\n",
    "train = dataset['train']\n",
    "texts = train['text']\n",
    "\n",
    "len(texts)"
   ]
  },
  {
   "cell_type": "code",
   "execution_count": 7,
   "metadata": {},
   "outputs": [],
   "source": [
    "import gensim\n",
    "from gensim.models import Word2Vec\n",
    "from nltk.tokenize import word_tokenize\n",
    "import nltk"
   ]
  },
  {
   "cell_type": "code",
   "execution_count": 8,
   "metadata": {},
   "outputs": [
    {
     "name": "stderr",
     "output_type": "stream",
     "text": [
      "[nltk_data] Downloading package punkt to\n",
      "[nltk_data]     C:\\Users\\lipka\\AppData\\Roaming\\nltk_data...\n",
      "[nltk_data]   Package punkt is already up-to-date!\n",
      "[nltk_data] Downloading package punkt_tab to\n",
      "[nltk_data]     C:\\Users\\lipka\\AppData\\Roaming\\nltk_data...\n",
      "[nltk_data]   Package punkt_tab is already up-to-date!\n"
     ]
    },
    {
     "name": "stdout",
     "output_type": "stream",
     "text": [
      "Word embedding for 'something': [ 2.3091462  -0.05793208  2.8013809   0.01569614 -0.2496716   2.2482204\n",
      " -0.99586225 -0.49993473  1.6842532   0.581846   -0.12001908  1.3691442\n",
      " -0.81752515  0.8054416   4.029425   -2.9502823  -4.4782996   3.851077\n",
      "  2.4974606   0.60156167  0.05917372 -0.9829206   1.002816    1.5206614\n",
      "  2.1868217   1.1687758  -2.090033    1.2932975  -2.3740327   2.0212574\n",
      "  3.8717015  -0.4568322   0.66258675 -3.4010177   4.5219474   4.276325\n",
      " -1.6497796   1.8171086  -1.9853308  -3.5328183   1.6352223   3.309\n",
      " -0.84171027  0.19821464  0.98182076  0.59178036 -2.3405612  -0.22165014\n",
      " -1.2775508   1.9428115 ]\n"
     ]
    }
   ],
   "source": [
    "nltk.download('punkt')\n",
    "nltk.download('punkt_tab')\n",
    "\n",
    "# Sample corpus\n",
    "sentences = [\n",
    "    \"Here something to read!\",\n",
    "    \"Embeddings are cool because they help\",\n",
    "    \"Word embeddings can be useful in various NLP tasks\"\n",
    "]\n",
    "\n",
    "sentences = texts\n",
    "\n",
    "# Tokenize the sentences\n",
    "tokenized_sentences = [word_tokenize(sentence.lower()) for sentence in sentences]\n",
    "tokenized_sentences\n",
    "\n",
    "# Train Word2Vec\n",
    "word2vec_model = Word2Vec(sentences=tokenized_sentences, vector_size=50, window=5, min_count=1)\n",
    "\n",
    "# Access the embedding of a word\n",
    "word_embedding = word2vec_model.wv['something']\n",
    "print(\"Word embedding for 'something':\", word_embedding)"
   ]
  }
 ],
 "metadata": {
  "kernelspec": {
   "display_name": "venv",
   "language": "python",
   "name": "python3"
  },
  "language_info": {
   "codemirror_mode": {
    "name": "ipython",
    "version": 3
   },
   "file_extension": ".py",
   "mimetype": "text/x-python",
   "name": "python",
   "nbconvert_exporter": "python",
   "pygments_lexer": "ipython3",
   "version": "3.10.11"
  }
 },
 "nbformat": 4,
 "nbformat_minor": 2
}
