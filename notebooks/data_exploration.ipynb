{
 "cells": [
  {
   "cell_type": "code",
   "execution_count": 2,
   "metadata": {},
   "outputs": [],
   "source": [
    "import pandas as pd"
   ]
  },
  {
   "cell_type": "code",
   "execution_count": 3,
   "metadata": {},
   "outputs": [],
   "source": [
    "df = pd.read_csv('../data/csv/playlists_dataset/playlist_data.csv')"
   ]
  },
  {
   "cell_type": "code",
   "execution_count": 4,
   "metadata": {},
   "outputs": [
    {
     "name": "stdout",
     "output_type": "stream",
     "text": [
      "(2032044,)\n"
     ]
    }
   ],
   "source": [
    "print(df['trackname'].unique().shape)\n",
    "# 2032044 unique songs"
   ]
  },
  {
   "cell_type": "code",
   "execution_count": 5,
   "metadata": {},
   "outputs": [
    {
     "name": "stdout",
     "output_type": "stream",
     "text": [
      "12891680\n"
     ]
    }
   ],
   "source": [
    "num_of_entrys = df['trackname'].shape[0]\n",
    "print(num_of_entrys)\n",
    "# 12891680 entrys of songs"
   ]
  },
  {
   "cell_type": "code",
   "execution_count": 6,
   "metadata": {},
   "outputs": [
    {
     "name": "stdout",
     "output_type": "stream",
     "text": [
      "157505\n"
     ]
    }
   ],
   "source": [
    "num_of_playlists = df['playlistname'].unique().shape[0]\n",
    "print(num_of_playlists)\n",
    "# 157505 playlists"
   ]
  },
  {
   "cell_type": "code",
   "execution_count": 7,
   "metadata": {},
   "outputs": [
    {
     "name": "stdout",
     "output_type": "stream",
     "text": [
      "81.84933811625028\n"
     ]
    }
   ],
   "source": [
    "avg_playlist_len = num_of_entrys / num_of_playlists\n",
    "print(avg_playlist_len)"
   ]
  },
  {
   "cell_type": "code",
   "execution_count": 8,
   "metadata": {},
   "outputs": [],
   "source": [
    "tokenized_playlist_np = df.groupby(\"playlistname\")[\"trackname\"].apply(list)\n",
    "tokenized_playlist = tokenized_playlist_np.tolist()"
   ]
  },
  {
   "cell_type": "code",
   "execution_count": 9,
   "metadata": {},
   "outputs": [
    {
     "name": "stdout",
     "output_type": "stream",
     "text": [
      "Total Playlists: 157504\n",
      "Total Songs: 12890434\n",
      "Average Songs per Playlist: 81.84194687119057\n",
      "Variance of Songs per Playlist: 11685923.924633183\n",
      "Standard Deviation of Songs per Playlist: 3418.468066931909\n",
      "Shortest Playlist Length: 1\n",
      "Longest Playlist Length: 1337085\n"
     ]
    }
   ],
   "source": [
    "import numpy as np \n",
    "\n",
    "playlist_lengths = np.array([len(playlist) for playlist in tokenized_playlist])\n",
    "\n",
    "total_playlists = len(tokenized_playlist)\n",
    "\n",
    "total_songs = sum(playlist_lengths)\n",
    "\n",
    "average_songs_per_playlist = np.mean(playlist_lengths)\n",
    "\n",
    "variance_songs_per_playlist = np.var(playlist_lengths)\n",
    "std_dev_songs_per_playlist = np.std(playlist_lengths)\n",
    "\n",
    "shortest_playlist = min(playlist_lengths)\n",
    "longest_playlist = max(playlist_lengths)\n",
    "\n",
    "metrics = {\n",
    "    \"Total Playlists\": total_playlists,\n",
    "    \"Total Songs\": total_songs,\n",
    "    \"Average Songs per Playlist\": average_songs_per_playlist,\n",
    "    \"Variance of Songs per Playlist\": variance_songs_per_playlist,\n",
    "    \"Standard Deviation of Songs per Playlist\": std_dev_songs_per_playlist,\n",
    "    \"Shortest Playlist Length\": shortest_playlist,\n",
    "    \"Longest Playlist Length\": longest_playlist\n",
    "}\n",
    "\n",
    "for key, value in metrics.items():\n",
    "    print(f\"{key}: {value}\")"
   ]
  },
  {
   "cell_type": "code",
   "execution_count": 10,
   "metadata": {},
   "outputs": [
    {
     "name": "stdout",
     "output_type": "stream",
     "text": [
      "Total Playlists (after filtering): 138847\n",
      "Total Songs (after filtering): 3519750\n",
      "Average Songs per Playlist (after filtering): 25.349845513406844\n",
      "Variance of Songs per Playlist (after filtering): 512.453400175634\n",
      "Standard Deviation of Songs per Playlist (after filtering): 22.637433604002773\n",
      "Shortest Playlist Length (after filtering): 1\n",
      "Longest Playlist Length (after filtering): 103\n"
     ]
    }
   ],
   "source": [
    "# Remove extreme outliers (e.g., playlists with lengths beyond a reasonable range)\n",
    "# Using Interquartile Range (IQR) method for outlier detection\n",
    "Q1 = np.percentile(playlist_lengths, 25)  # First quartile (25th percentile)\n",
    "Q3 = np.percentile(playlist_lengths, 75)  # Third quartile (75th percentile)\n",
    "IQR = Q3 - Q1  # Interquartile range\n",
    "\n",
    "lower_bound = Q1 - 1.5 * IQR\n",
    "upper_bound = Q3 + 1.5 * IQR\n",
    "\n",
    "filtered_playlist_lengths = playlist_lengths[(playlist_lengths >= lower_bound) & (playlist_lengths <= upper_bound)]\n",
    "\n",
    "total_playlists = len(filtered_playlist_lengths)\n",
    "total_songs = sum(filtered_playlist_lengths)\n",
    "average_songs_per_playlist = np.mean(filtered_playlist_lengths)\n",
    "variance_songs_per_playlist = np.var(filtered_playlist_lengths)\n",
    "std_dev_songs_per_playlist = np.std(filtered_playlist_lengths)\n",
    "shortest_playlist = min(filtered_playlist_lengths)\n",
    "longest_playlist = max(filtered_playlist_lengths)\n",
    "\n",
    "metrics = {\n",
    "    \"Total Playlists (after filtering)\": total_playlists,\n",
    "    \"Total Songs (after filtering)\": total_songs,\n",
    "    \"Average Songs per Playlist (after filtering)\": average_songs_per_playlist,\n",
    "    \"Variance of Songs per Playlist (after filtering)\": variance_songs_per_playlist,\n",
    "    \"Standard Deviation of Songs per Playlist (after filtering)\": std_dev_songs_per_playlist,\n",
    "    \"Shortest Playlist Length (after filtering)\": shortest_playlist,\n",
    "    \"Longest Playlist Length (after filtering)\": longest_playlist\n",
    "}\n",
    "\n",
    "for key, value in metrics.items():\n",
    "    print(f\"{key}: {value}\")\n"
   ]
  },
  {
   "cell_type": "code",
   "execution_count": 11,
   "metadata": {},
   "outputs": [
    {
     "name": "stdout",
     "output_type": "stream",
     "text": [
      "          Unnamed: 0                     trackname  \\\n",
      "1509            1509          Too Old To Die Young   \n",
      "2107            2107                If I Die Young   \n",
      "2663            2663  One Of Us Is Gonna Die Young   \n",
      "4884            4884                     Die Young   \n",
      "8162            8162  One Of Us Is Gonna Die Young   \n",
      "...              ...                           ...   \n",
      "12875906    12875906  Live Fast Die Young - B-Side   \n",
      "12879435    12879435              Rather Die Young   \n",
      "12890321    12890321                  We Die Young   \n",
      "12890681    12890681                     Die Young   \n",
      "12890984    12890984                     Die Young   \n",
      "\n",
      "                               playlistname                    artistname  \n",
      "1509                          Work playlist  Brother Dege (AKA Dege Legg)  \n",
      "2107                                Starred                The Band Perry  \n",
      "2663                tove's spamlista (okok)                       The Ark  \n",
      "4884                     Everything at once           The Sweet Serenades  \n",
      "8162                     Everything at once                       The Ark  \n",
      "...                                     ...                           ...  \n",
      "12875906  Saxon — The EMI Years (1985-1988)                         Saxon  \n",
      "12879435                        Beyoncé - 4                       Beyoncé  \n",
      "12890321                          Rum! Time               Alice In Chains  \n",
      "12890681          Happy Atlanta Pride 2012!                         Ke$ha  \n",
      "12890984                            Starred                         Ke$ha  \n",
      "\n",
      "[3094 rows x 4 columns]\n"
     ]
    }
   ],
   "source": [
    "# Search string\n",
    "search_string = \"die young\"\n",
    "\n",
    "# Case-insensitive search in a column\n",
    "result = df[df['trackname'].str.contains(search_string, case=False, na=False)]\n",
    "\n",
    "print(result)"
   ]
  },
  {
   "cell_type": "code",
   "execution_count": 17,
   "metadata": {},
   "outputs": [
    {
     "name": "stdout",
     "output_type": "stream",
     "text": [
      "[   1188    1189    1190    1190    1190    1191    1192    1192    1193\n",
      "    1195    1198    1199    1199    1201    1201    1202    1203    1203\n",
      "    1207    1207    1207    1209    1210    1212    1212    1213    1214\n",
      "    1215    1215    1217    1217    1218    1218    1219    1220    1220\n",
      "    1220    1222    1224    1226    1226    1226    1227    1231    1232\n",
      "    1232    1234    1234    1235    1236    1237    1237    1238    1239\n",
      "    1239    1239    1239    1239    1240    1241    1245    1245    1247\n",
      "    1247    1248    1249    1249    1249    1250    1250    1251    1253\n",
      "    1254    1254    1254    1256    1257    1257    1257    1257    1257\n",
      "    1259    1260    1260    1262    1264    1265    1267    1269    1269\n",
      "    1274    1276    1277    1277    1278    1279    1279    1279    1280\n",
      "    1280    1280    1281    1281    1282    1284    1284    1284    1284\n",
      "    1284    1285    1285    1287    1287    1287    1288    1289    1290\n",
      "    1290    1292    1293    1294    1297    1297    1298    1300    1301\n",
      "    1302    1305    1307    1308    1308    1309    1309    1310    1311\n",
      "    1313    1314    1315    1318    1318    1319    1320    1320    1320\n",
      "    1321    1321    1322    1323    1324    1324    1327    1329    1330\n",
      "    1330    1332    1333    1336    1336    1336    1337    1338    1344\n",
      "    1344    1345    1346    1347    1347    1348    1349    1349    1350\n",
      "    1351    1351    1352    1353    1353    1355    1355    1355    1355\n",
      "    1357    1357    1357    1361    1362    1363    1363    1364    1365\n",
      "    1366    1367    1368    1369    1372    1374    1376    1377    1377\n",
      "    1377    1378    1381    1381    1381    1383    1388    1396    1397\n",
      "    1399    1402    1402    1402    1404    1405    1411    1412    1413\n",
      "    1415    1415    1416    1417    1417    1419    1422    1423    1424\n",
      "    1427    1427    1427    1428    1429    1431    1436    1439    1439\n",
      "    1440    1441    1444    1446    1447    1450    1451    1452    1452\n",
      "    1454    1455    1455    1455    1456    1459    1459    1462    1465\n",
      "    1466    1468    1475    1476    1478    1478    1478    1479    1480\n",
      "    1481    1481    1483    1487    1487    1489    1492    1492    1493\n",
      "    1493    1494    1494    1500    1500    1501    1502    1503    1512\n",
      "    1512    1513    1513    1515    1515    1516    1519    1523    1523\n",
      "    1528    1529    1530    1533    1534    1534    1536    1544    1545\n",
      "    1545    1546    1547    1551    1552    1553    1554    1554    1554\n",
      "    1555    1557    1557    1561    1568    1569    1569    1570    1570\n",
      "    1574    1577    1579    1583    1585    1586    1587    1587    1588\n",
      "    1590    1590    1591    1592    1593    1593    1593    1602    1604\n",
      "    1604    1605    1608    1608    1609    1609    1611    1615    1615\n",
      "    1616    1618    1618    1620    1622    1624    1625    1629    1629\n",
      "    1630    1631    1631    1633    1633    1634    1635    1637    1638\n",
      "    1638    1640    1640    1641    1646    1647    1648    1649    1652\n",
      "    1655    1662    1662    1664    1664    1665    1666    1669    1670\n",
      "    1671    1672    1673    1678    1678    1679    1679    1680    1680\n",
      "    1688    1690    1690    1690    1690    1691    1691    1694    1697\n",
      "    1703    1705    1705    1712    1714    1715    1716    1724    1729\n",
      "    1733    1733    1734    1734    1736    1742    1745    1746    1760\n",
      "    1766    1767    1769    1770    1771    1774    1774    1774    1776\n",
      "    1776    1778    1778    1781    1784    1788    1790    1792    1794\n",
      "    1803    1806    1807    1820    1826    1826    1834    1834    1834\n",
      "    1835    1835    1842    1848    1848    1849    1850    1853    1855\n",
      "    1856    1860    1875    1881    1883    1883    1889    1892    1892\n",
      "    1893    1895    1896    1896    1900    1900    1903    1906    1907\n",
      "    1907    1914    1915    1917    1919    1922    1924    1925    1928\n",
      "    1932    1935    1936    1942    1948    1951    1953    1958    1964\n",
      "    1965    1966    1967    1971    1971    1973    1975    1980    1992\n",
      "    2006    2008    2010    2010    2010    2014    2016    2016    2018\n",
      "    2021    2022    2023    2029    2030    2037    2040    2045    2045\n",
      "    2046    2051    2055    2055    2057    2058    2060    2063    2078\n",
      "    2080    2082    2084    2085    2091    2094    2096    2097    2107\n",
      "    2108    2110    2122    2127    2131    2132    2136    2137    2140\n",
      "    2140    2144    2146    2147    2152    2156    2158    2163    2173\n",
      "    2175    2177    2178    2178    2187    2188    2191    2195    2196\n",
      "    2200    2200    2200    2200    2203    2206    2211    2218    2228\n",
      "    2235    2239    2249    2254    2255    2258    2260    2260    2261\n",
      "    2268    2277    2279    2285    2286    2288    2292    2294    2297\n",
      "    2307    2308    2313    2341    2341    2345    2357    2358    2359\n",
      "    2366    2370    2372    2384    2387    2389    2391    2392    2413\n",
      "    2426    2434    2435    2452    2457    2467    2470    2471    2480\n",
      "    2493    2494    2502    2502    2507    2516    2520    2528    2535\n",
      "    2535    2537    2543    2545    2550    2557    2572    2573    2573\n",
      "    2575    2583    2583    2584    2585    2594    2594    2615    2623\n",
      "    2624    2628    2634    2636    2639    2645    2645    2652    2665\n",
      "    2665    2667    2672    2681    2690    2691    2696    2702    2707\n",
      "    2711    2712    2716    2729    2731    2733    2736    2740    2741\n",
      "    2744    2753    2755    2759    2765    2770    2771    2784    2793\n",
      "    2795    2798    2812    2813    2817    2821    2826    2828    2831\n",
      "    2836    2844    2848    2853    2853    2859    2867    2872    2876\n",
      "    2881    2895    2898    2907    2911    2914    2917    2917    2924\n",
      "    2938    2942    2958    2959    2969    2978    2983    2985    2995\n",
      "    2998    3010    3037    3037    3041    3046    3048    3056    3074\n",
      "    3080    3082    3086    3088    3090    3094    3098    3112    3143\n",
      "    3145    3151    3152    3158    3163    3170    3178    3189    3189\n",
      "    3192    3214    3221    3230    3235    3239    3240    3251    3257\n",
      "    3260    3263    3268    3273    3279    3289    3327    3340    3345\n",
      "    3346    3347    3347    3350    3357    3366    3377    3380    3386\n",
      "    3388    3389    3422    3425    3454    3461    3473    3492    3501\n",
      "    3516    3517    3541    3544    3566    3568    3570    3571    3602\n",
      "    3605    3628    3656    3661    3665    3666    3695    3700    3706\n",
      "    3711    3716    3727    3752    3766    3771    3778    3787    3798\n",
      "    3810    3835    3846    3856    3870    3911    3919    3933    3970\n",
      "    3971    3978    4022    4106    4123    4162    4195    4220    4308\n",
      "    4372    4397    4403    4424    4432    4458    4485    4487    4557\n",
      "    4603    4613    4619    4637    4664    4670    4675    4747    4759\n",
      "    4851    4869    4912    4920    4951    4975    5006    5026    5033\n",
      "    5034    5048    5066    5118    5120    5188    5191    5216    5235\n",
      "    5237    5279    5320    5333    5361    5386    5580    5599    5616\n",
      "    5648    5658    5679    5679    5679    5683    5739    5770    5793\n",
      "    5796    5815    5832    5845    5856    6044    6049    6132    6144\n",
      "    6290    6466    6481    6537    6549    6688    6760    6784    6825\n",
      "    6894    6914    6990    7028    7109    7144    7158    7193    7342\n",
      "    7463    7488    7511    7523    7558    7645    7686    7692    7714\n",
      "    7725    7741    7785    7851    7892    7998    8019    8020    8044\n",
      "    8053    8200    8253    8307    8309    8321    8329    8342    8383\n",
      "    8429    8448    8504    8513    8550    8550    8696    8789    8896\n",
      "    9007    9117    9151    9185    9233    9280    9296    9317    9339\n",
      "    9356    9360    9361    9365    9370    9373    9374    9377    9378\n",
      "    9384    9386    9393    9399    9401    9414    9417    9431    9441\n",
      "    9459    9466    9469    9495    9508    9619    9801   10012   10205\n",
      "   10455   10535   10552   10717   10956   11002   11180   11185   13086\n",
      "   13101   13117   14506   14877   14952   15245   15520   16316   16328\n",
      "   17859   18291   18410   20895   22281   22680   30142   30425  180083\n",
      " 1337085]\n"
     ]
    }
   ],
   "source": [
    "playlist_lengths.sort()\n",
    "print(playlist_lengths[-100:])"
   ]
  },
  {
   "cell_type": "code",
   "execution_count": null,
   "metadata": {},
   "outputs": [],
   "source": []
  }
 ],
 "metadata": {
  "kernelspec": {
   "display_name": "venv",
   "language": "python",
   "name": "python3"
  },
  "language_info": {
   "codemirror_mode": {
    "name": "ipython",
    "version": 3
   },
   "file_extension": ".py",
   "mimetype": "text/x-python",
   "name": "python",
   "nbconvert_exporter": "python",
   "pygments_lexer": "ipython3",
   "version": "3.10.11"
  }
 },
 "nbformat": 4,
 "nbformat_minor": 2
}
