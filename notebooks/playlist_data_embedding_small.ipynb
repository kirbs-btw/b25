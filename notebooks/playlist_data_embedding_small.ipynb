{
 "cells": [
  {
   "cell_type": "code",
   "execution_count": 1,
   "metadata": {},
   "outputs": [],
   "source": [
    "import gensim\n",
    "from gensim.models import Word2Vec\n",
    "from nltk.tokenize import word_tokenize\n",
    "import nltk\n",
    "import pandas as pd"
   ]
  },
  {
   "cell_type": "code",
   "execution_count": 12,
   "metadata": {},
   "outputs": [],
   "source": [
    "df = pd.read_csv(\"../data/csv/playlists_dataset/spotify_dataset.csv\", on_bad_lines='skip')"
   ]
  },
  {
   "cell_type": "code",
   "execution_count": 16,
   "metadata": {},
   "outputs": [],
   "source": [
    "small_df = df[[\"trackname\", \"playlistname\"]].head(25000)\n",
    "small_df.to_csv(\"../data/csv/playlists_dataset/playlist_small.csv\")"
   ]
  },
  {
   "cell_type": "code",
   "execution_count": 20,
   "metadata": {},
   "outputs": [],
   "source": [
    "tokenized_playlist = small_df.groupby(\"playlistname\")[\"trackname\"].apply(list).tolist()"
   ]
  },
  {
   "cell_type": "code",
   "execution_count": 24,
   "metadata": {},
   "outputs": [],
   "source": [
    "word2vec_model = Word2Vec(sentences=tokenized_playlist, vector_size=50, window=5, min_count=1)"
   ]
  },
  {
   "cell_type": "code",
   "execution_count": 26,
   "metadata": {},
   "outputs": [
    {
     "name": "stdout",
     "output_type": "stream",
     "text": [
      "[ 1.01077706e-02  1.81702953e-02 -1.98189393e-02 -1.60790682e-02\n",
      "  7.81634729e-03 -1.54454838e-02 -1.01974225e-02 -3.30171533e-05\n",
      "  2.70197075e-03 -1.69646218e-02 -6.88793138e-03  9.59977508e-03\n",
      " -2.72957771e-03 -9.89104807e-03  3.62515287e-03 -1.35412551e-02\n",
      "  1.90056339e-02 -1.93328001e-02 -3.57224187e-03  1.22446883e-02\n",
      " -1.63891558e-02 -1.62375588e-02 -9.11119487e-03 -1.45815359e-02\n",
      "  3.67365777e-03  7.36063113e-03  8.63461476e-03  2.78069335e-03\n",
      "  1.35740889e-02 -5.94432885e-03  3.13499104e-03 -9.82969883e-04\n",
      " -1.50671704e-02  1.54410687e-03 -6.59436267e-03  1.60178766e-02\n",
      " -1.16141476e-02 -8.80101044e-03  1.39056733e-02 -1.29067237e-02\n",
      "  7.07687670e-03 -1.66007634e-02 -5.31819323e-03  1.95703171e-02\n",
      "  3.50990379e-03 -1.43023841e-02  8.47807527e-03  1.48088194e-03\n",
      " -1.03476569e-02 -1.64185315e-02]\n"
     ]
    }
   ],
   "source": [
    "word_embedding = word2vec_model.wv['(The Angels Wanna Wear My) Red Shoes']\n",
    "print(word_embedding)"
   ]
  }
 ],
 "metadata": {
  "kernelspec": {
   "display_name": "venv",
   "language": "python",
   "name": "python3"
  },
  "language_info": {
   "codemirror_mode": {
    "name": "ipython",
    "version": 3
   },
   "file_extension": ".py",
   "mimetype": "text/x-python",
   "name": "python",
   "nbconvert_exporter": "python",
   "pygments_lexer": "ipython3",
   "version": "3.10.11"
  }
 },
 "nbformat": 4,
 "nbformat_minor": 2
}
