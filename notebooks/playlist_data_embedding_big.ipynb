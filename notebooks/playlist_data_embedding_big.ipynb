{
 "cells": [
  {
   "cell_type": "markdown",
   "metadata": {},
   "source": [
    "# Playlist name embedding"
   ]
  },
  {
   "cell_type": "markdown",
   "metadata": {},
   "source": [
    "## Imports"
   ]
  },
  {
   "cell_type": "code",
   "execution_count": 1,
   "metadata": {},
   "outputs": [],
   "source": [
    "import gensim\n",
    "from gensim.models import Word2Vec\n",
    "from nltk.tokenize import word_tokenize\n",
    "import nltk\n",
    "import pandas as pd"
   ]
  },
  {
   "cell_type": "markdown",
   "metadata": {},
   "source": [
    "## tokenize data"
   ]
  },
  {
   "cell_type": "code",
   "execution_count": 2,
   "metadata": {},
   "outputs": [],
   "source": [
    "df = pd.read_csv(\"../data/csv/playlists_dataset/spotify_dataset.csv\", on_bad_lines='skip')"
   ]
  },
  {
   "cell_type": "code",
   "execution_count": 3,
   "metadata": {},
   "outputs": [],
   "source": [
    "big_df = df[[\"trackname\", \"playlistname\"]]\n",
    "big_df.to_csv(\"../data/csv/playlists_dataset/playlist_big.csv\")"
   ]
  },
  {
   "cell_type": "code",
   "execution_count": 5,
   "metadata": {},
   "outputs": [],
   "source": [
    "# group the trackname by playlistname in a np.array\n",
    "tokenized_playlist = big_df.groupby(\"playlistname\")[\"trackname\"].apply(list).tolist()"
   ]
  },
  {
   "cell_type": "code",
   "execution_count": 6,
   "metadata": {},
   "outputs": [],
   "source": [
    "import pickle\n",
    "\n",
    "with open('../data/tokenized_data/playlist_names/playlist_names_big_tokenized.pkl', 'wb') as f:\n",
    "    pickle.dump(tokenized_playlist, f)\n"
   ]
  },
  {
   "cell_type": "markdown",
   "metadata": {},
   "source": [
    "## train basic model"
   ]
  },
  {
   "cell_type": "markdown",
   "metadata": {},
   "source": [
    "Training Parameters: \n",
    "window: \n",
    "    how many words around it should be looked at while training for a word\n",
    "vector_size:\n",
    "    what dimension will the embedding have of the word\n",
    "min_count:\n",
    "    how often does the word need to appear in the dataset to be in the model \n",
    "sg:\n",
    "    what algorithm for training is used\n",
    "    0: default --> CBOW (Conitnuous Bag of Words)\n",
    "    1: Skip-Gram\n",
    "epochs:\n",
    "    Number of Training iterations\n",
    "alpha:\n",
    "    initial learning rate\n",
    "workers:\n",
    "    how many CPU cors are used for training    "
   ]
  },
  {
   "cell_type": "code",
   "execution_count": 12,
   "metadata": {},
   "outputs": [],
   "source": [
    "word2vec_model = Word2Vec(sentences=tokenized_playlist, vector_size=256, window=5, min_count=1, sg=0, workers=10)"
   ]
  },
  {
   "cell_type": "code",
   "execution_count": 14,
   "metadata": {},
   "outputs": [],
   "source": [
    "word2vec_model.save(\"../models/b25-sn-v256/b25-sn-v256.model\")"
   ]
  },
  {
   "cell_type": "markdown",
   "metadata": {},
   "source": [
    "## model testing"
   ]
  },
  {
   "cell_type": "code",
   "execution_count": 9,
   "metadata": {},
   "outputs": [],
   "source": [
    "model = Word2Vec.load(\"../models/b25-sn-v256/b25-sn-v256.model\")"
   ]
  },
  {
   "cell_type": "code",
   "execution_count": 10,
   "metadata": {},
   "outputs": [
    {
     "name": "stdout",
     "output_type": "stream",
     "text": [
      "[-0.1183842  -0.3146417  -0.11892345  0.3636975   0.34598288 -0.03235465\n",
      "  0.3858406   1.1642325  -0.52210623  0.04237529  0.2143606  -0.1500748\n",
      " -0.30651754  0.53260833  0.61937034 -0.01723476  0.13623331 -0.6865749\n",
      "  0.9123144   0.94553995  0.30577794  0.48698175  0.79905075 -0.7046781\n",
      " -0.17158543  0.37608328 -0.06879868 -0.49291003 -0.95065874 -1.302291\n",
      "  0.4952468   0.0329682  -0.5360766  -0.32919672 -0.66688645 -0.19667555\n",
      " -0.34515324  0.8552831   0.28891793 -0.65740293  0.4665091  -0.39611176\n",
      "  0.09031749  1.0945204   0.29237762 -0.42422068  0.5449177  -0.25401688\n",
      " -0.8731208   0.49374542]\n"
     ]
    }
   ],
   "source": [
    "word_embedding = model.wv['(The Angels Wanna Wear My) Red Shoes']\n",
    "print(word_embedding)"
   ]
  },
  {
   "cell_type": "code",
   "execution_count": null,
   "metadata": {},
   "outputs": [],
   "source": []
  }
 ],
 "metadata": {
  "kernelspec": {
   "display_name": "venv",
   "language": "python",
   "name": "python3"
  },
  "language_info": {
   "codemirror_mode": {
    "name": "ipython",
    "version": 3
   },
   "file_extension": ".py",
   "mimetype": "text/x-python",
   "name": "python",
   "nbconvert_exporter": "python",
   "pygments_lexer": "ipython3",
   "version": "3.10.11"
  }
 },
 "nbformat": 4,
 "nbformat_minor": 2
}
